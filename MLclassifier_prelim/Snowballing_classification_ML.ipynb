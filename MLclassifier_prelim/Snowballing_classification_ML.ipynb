{
 "cells": [
  {
   "cell_type": "code",
   "execution_count": 1,
   "metadata": {
    "id": "9hLj6mTc0CPm"
   },
   "outputs": [],
   "source": [
    "import pandas as pd\n",
    "\n",
    "import torch\n",
    "import numpy as np\n",
    "import seaborn as sns\n",
    "#from pylab import rcParams\n",
    "import matplotlib.pyplot as plt\n",
    "\n",
    "from sklearn.model_selection import train_test_split\n",
    "from sklearn.metrics import confusion_matrix, classification_report\n",
    "from collections import defaultdict\n",
    "#from textwrap import wrap\n",
    "#from torch import nn, optim"
   ]
  },
  {
   "cell_type": "code",
   "execution_count": 2,
   "metadata": {
    "id": "H7Mj8MFZclAC"
   },
   "outputs": [],
   "source": [
    "import nltk\n",
    "from nltk.corpus import stopwords\n",
    "import string\n",
    "from tensorflow.keras.preprocessing.text import Tokenizer\n",
    "from tensorflow.keras.preprocessing.sequence import pad_sequences\n",
    "from wordcloud import WordCloud, STOPWORDS\n",
    "import spacy"
   ]
  },
  {
   "cell_type": "code",
   "execution_count": 3,
   "metadata": {
    "colab": {
     "base_uri": "https://localhost:8080/"
    },
    "id": "269aoTrP0dPS",
    "outputId": "30a8b1f5-5a44-404a-e6c0-fb53984b02c9"
   },
   "outputs": [
    {
     "name": "stdout",
     "output_type": "stream",
     "text": [
      "Mounted at /content/drive\n"
     ]
    }
   ],
   "source": [
    "from google.colab import drive\n",
    "drive.mount('/content/drive')"
   ]
  },
  {
   "cell_type": "code",
   "execution_count": 4,
   "metadata": {
    "id": "DR1pHKyu0rV-"
   },
   "outputs": [],
   "source": [
    "df_train = pd.read_csv('/content/drive/My Drive/datasets/Snowball/Training.csv')\n",
    "df_test = pd.read_csv('/content/drive/My Drive/datasets/Snowball/Testing.csv')"
   ]
  },
  {
   "cell_type": "code",
   "execution_count": 5,
   "metadata": {
    "colab": {
     "base_uri": "https://localhost:8080/",
     "height": 206
    },
    "id": "3B9a2jm724DL",
    "outputId": "b289c8c5-a117-49bb-c457-74f02fbc1bb3"
   },
   "outputs": [
    {
     "data": {
      "text/html": [
       "\n",
       "  <div id=\"df-33ea1419-217d-41c2-a7cd-32ae0927471a\">\n",
       "    <div class=\"colab-df-container\">\n",
       "      <div>\n",
       "<style scoped>\n",
       "    .dataframe tbody tr th:only-of-type {\n",
       "        vertical-align: middle;\n",
       "    }\n",
       "\n",
       "    .dataframe tbody tr th {\n",
       "        vertical-align: top;\n",
       "    }\n",
       "\n",
       "    .dataframe thead th {\n",
       "        text-align: right;\n",
       "    }\n",
       "</style>\n",
       "<table border=\"1\" class=\"dataframe\">\n",
       "  <thead>\n",
       "    <tr style=\"text-align: right;\">\n",
       "      <th></th>\n",
       "      <th>Title</th>\n",
       "      <th>Abstract</th>\n",
       "      <th>Relevance</th>\n",
       "    </tr>\n",
       "  </thead>\n",
       "  <tbody>\n",
       "    <tr>\n",
       "      <th>0</th>\n",
       "      <td>A Guide To The Project Management Body Of Know...</td>\n",
       "      <td>Its hard to imagine a time when A Guide to the...</td>\n",
       "      <td>0</td>\n",
       "    </tr>\n",
       "    <tr>\n",
       "      <th>1</th>\n",
       "      <td>Continuing Professional Development by Practit...</td>\n",
       "      <td>To prevent skilled professionals from being ph...</td>\n",
       "      <td>0</td>\n",
       "    </tr>\n",
       "    <tr>\n",
       "      <th>2</th>\n",
       "      <td>On a partnership between software industry and...</td>\n",
       "      <td>This paper discusses a role for industry in so...</td>\n",
       "      <td>0</td>\n",
       "    </tr>\n",
       "    <tr>\n",
       "      <th>3</th>\n",
       "      <td>Network Analysis of a Large Scale Open Source ...</td>\n",
       "      <td>One way to understand the structure of an open...</td>\n",
       "      <td>0</td>\n",
       "    </tr>\n",
       "    <tr>\n",
       "      <th>4</th>\n",
       "      <td>Design Science in Information Systems Research</td>\n",
       "      <td>Two paradigms characterize much of the researc...</td>\n",
       "      <td>0</td>\n",
       "    </tr>\n",
       "  </tbody>\n",
       "</table>\n",
       "</div>\n",
       "      <button class=\"colab-df-convert\" onclick=\"convertToInteractive('df-33ea1419-217d-41c2-a7cd-32ae0927471a')\"\n",
       "              title=\"Convert this dataframe to an interactive table.\"\n",
       "              style=\"display:none;\">\n",
       "        \n",
       "  <svg xmlns=\"http://www.w3.org/2000/svg\" height=\"24px\"viewBox=\"0 0 24 24\"\n",
       "       width=\"24px\">\n",
       "    <path d=\"M0 0h24v24H0V0z\" fill=\"none\"/>\n",
       "    <path d=\"M18.56 5.44l.94 2.06.94-2.06 2.06-.94-2.06-.94-.94-2.06-.94 2.06-2.06.94zm-11 1L8.5 8.5l.94-2.06 2.06-.94-2.06-.94L8.5 2.5l-.94 2.06-2.06.94zm10 10l.94 2.06.94-2.06 2.06-.94-2.06-.94-.94-2.06-.94 2.06-2.06.94z\"/><path d=\"M17.41 7.96l-1.37-1.37c-.4-.4-.92-.59-1.43-.59-.52 0-1.04.2-1.43.59L10.3 9.45l-7.72 7.72c-.78.78-.78 2.05 0 2.83L4 21.41c.39.39.9.59 1.41.59.51 0 1.02-.2 1.41-.59l7.78-7.78 2.81-2.81c.8-.78.8-2.07 0-2.86zM5.41 20L4 18.59l7.72-7.72 1.47 1.35L5.41 20z\"/>\n",
       "  </svg>\n",
       "      </button>\n",
       "      \n",
       "  <style>\n",
       "    .colab-df-container {\n",
       "      display:flex;\n",
       "      flex-wrap:wrap;\n",
       "      gap: 12px;\n",
       "    }\n",
       "\n",
       "    .colab-df-convert {\n",
       "      background-color: #E8F0FE;\n",
       "      border: none;\n",
       "      border-radius: 50%;\n",
       "      cursor: pointer;\n",
       "      display: none;\n",
       "      fill: #1967D2;\n",
       "      height: 32px;\n",
       "      padding: 0 0 0 0;\n",
       "      width: 32px;\n",
       "    }\n",
       "\n",
       "    .colab-df-convert:hover {\n",
       "      background-color: #E2EBFA;\n",
       "      box-shadow: 0px 1px 2px rgba(60, 64, 67, 0.3), 0px 1px 3px 1px rgba(60, 64, 67, 0.15);\n",
       "      fill: #174EA6;\n",
       "    }\n",
       "\n",
       "    [theme=dark] .colab-df-convert {\n",
       "      background-color: #3B4455;\n",
       "      fill: #D2E3FC;\n",
       "    }\n",
       "\n",
       "    [theme=dark] .colab-df-convert:hover {\n",
       "      background-color: #434B5C;\n",
       "      box-shadow: 0px 1px 3px 1px rgba(0, 0, 0, 0.15);\n",
       "      filter: drop-shadow(0px 1px 2px rgba(0, 0, 0, 0.3));\n",
       "      fill: #FFFFFF;\n",
       "    }\n",
       "  </style>\n",
       "\n",
       "      <script>\n",
       "        const buttonEl =\n",
       "          document.querySelector('#df-33ea1419-217d-41c2-a7cd-32ae0927471a button.colab-df-convert');\n",
       "        buttonEl.style.display =\n",
       "          google.colab.kernel.accessAllowed ? 'block' : 'none';\n",
       "\n",
       "        async function convertToInteractive(key) {\n",
       "          const element = document.querySelector('#df-33ea1419-217d-41c2-a7cd-32ae0927471a');\n",
       "          const dataTable =\n",
       "            await google.colab.kernel.invokeFunction('convertToInteractive',\n",
       "                                                     [key], {});\n",
       "          if (!dataTable) return;\n",
       "\n",
       "          const docLinkHtml = 'Like what you see? Visit the ' +\n",
       "            '<a target=\"_blank\" href=https://colab.research.google.com/notebooks/data_table.ipynb>data table notebook</a>'\n",
       "            + ' to learn more about interactive tables.';\n",
       "          element.innerHTML = '';\n",
       "          dataTable['output_type'] = 'display_data';\n",
       "          await google.colab.output.renderOutput(dataTable, element);\n",
       "          const docLink = document.createElement('div');\n",
       "          docLink.innerHTML = docLinkHtml;\n",
       "          element.appendChild(docLink);\n",
       "        }\n",
       "      </script>\n",
       "    </div>\n",
       "  </div>\n",
       "  "
      ],
      "text/plain": [
       "                                               Title  \\\n",
       "0  A Guide To The Project Management Body Of Know...   \n",
       "1  Continuing Professional Development by Practit...   \n",
       "2  On a partnership between software industry and...   \n",
       "3  Network Analysis of a Large Scale Open Source ...   \n",
       "4     Design Science in Information Systems Research   \n",
       "\n",
       "                                            Abstract  Relevance  \n",
       "0  Its hard to imagine a time when A Guide to the...          0  \n",
       "1  To prevent skilled professionals from being ph...          0  \n",
       "2  This paper discusses a role for industry in so...          0  \n",
       "3  One way to understand the structure of an open...          0  \n",
       "4  Two paradigms characterize much of the researc...          0  "
      ]
     },
     "execution_count": 5,
     "metadata": {},
     "output_type": "execute_result"
    }
   ],
   "source": [
    "df_train.head()"
   ]
  },
  {
   "cell_type": "code",
   "execution_count": 6,
   "metadata": {
    "colab": {
     "base_uri": "https://localhost:8080/",
     "height": 206
    },
    "id": "shLUQKzJ26d1",
    "outputId": "82691c68-c688-46c3-977b-fa0f8c8d19ba"
   },
   "outputs": [
    {
     "data": {
      "text/html": [
       "\n",
       "  <div id=\"df-1a88f55f-a960-48b4-9d0d-4d7c4cf22e10\">\n",
       "    <div class=\"colab-df-container\">\n",
       "      <div>\n",
       "<style scoped>\n",
       "    .dataframe tbody tr th:only-of-type {\n",
       "        vertical-align: middle;\n",
       "    }\n",
       "\n",
       "    .dataframe tbody tr th {\n",
       "        vertical-align: top;\n",
       "    }\n",
       "\n",
       "    .dataframe thead th {\n",
       "        text-align: right;\n",
       "    }\n",
       "</style>\n",
       "<table border=\"1\" class=\"dataframe\">\n",
       "  <thead>\n",
       "    <tr style=\"text-align: right;\">\n",
       "      <th></th>\n",
       "      <th>Title</th>\n",
       "      <th>Abstract</th>\n",
       "      <th>Relevance</th>\n",
       "    </tr>\n",
       "  </thead>\n",
       "  <tbody>\n",
       "    <tr>\n",
       "      <th>0</th>\n",
       "      <td>Structuring automotive product lines and featu...</td>\n",
       "      <td>Automotive systems are highly complex and cust...</td>\n",
       "      <td>0</td>\n",
       "    </tr>\n",
       "    <tr>\n",
       "      <th>1</th>\n",
       "      <td>Interventions for Software Security: Creating ...</td>\n",
       "      <td>Though some software development teams are hig...</td>\n",
       "      <td>0</td>\n",
       "    </tr>\n",
       "    <tr>\n",
       "      <th>2</th>\n",
       "      <td>Sustainability analysis and ease of learning i...</td>\n",
       "      <td>Context: Artifact-based requirements engineeri...</td>\n",
       "      <td>0</td>\n",
       "    </tr>\n",
       "    <tr>\n",
       "      <th>3</th>\n",
       "      <td>Light-Touch Interventions to Improve Software ...</td>\n",
       "      <td>Many software developers still have little int...</td>\n",
       "      <td>0</td>\n",
       "    </tr>\n",
       "    <tr>\n",
       "      <th>4</th>\n",
       "      <td>Academic and Industrial Software Testing Confe...</td>\n",
       "      <td>Just as with any other profession, an efficien...</td>\n",
       "      <td>0</td>\n",
       "    </tr>\n",
       "  </tbody>\n",
       "</table>\n",
       "</div>\n",
       "      <button class=\"colab-df-convert\" onclick=\"convertToInteractive('df-1a88f55f-a960-48b4-9d0d-4d7c4cf22e10')\"\n",
       "              title=\"Convert this dataframe to an interactive table.\"\n",
       "              style=\"display:none;\">\n",
       "        \n",
       "  <svg xmlns=\"http://www.w3.org/2000/svg\" height=\"24px\"viewBox=\"0 0 24 24\"\n",
       "       width=\"24px\">\n",
       "    <path d=\"M0 0h24v24H0V0z\" fill=\"none\"/>\n",
       "    <path d=\"M18.56 5.44l.94 2.06.94-2.06 2.06-.94-2.06-.94-.94-2.06-.94 2.06-2.06.94zm-11 1L8.5 8.5l.94-2.06 2.06-.94-2.06-.94L8.5 2.5l-.94 2.06-2.06.94zm10 10l.94 2.06.94-2.06 2.06-.94-2.06-.94-.94-2.06-.94 2.06-2.06.94z\"/><path d=\"M17.41 7.96l-1.37-1.37c-.4-.4-.92-.59-1.43-.59-.52 0-1.04.2-1.43.59L10.3 9.45l-7.72 7.72c-.78.78-.78 2.05 0 2.83L4 21.41c.39.39.9.59 1.41.59.51 0 1.02-.2 1.41-.59l7.78-7.78 2.81-2.81c.8-.78.8-2.07 0-2.86zM5.41 20L4 18.59l7.72-7.72 1.47 1.35L5.41 20z\"/>\n",
       "  </svg>\n",
       "      </button>\n",
       "      \n",
       "  <style>\n",
       "    .colab-df-container {\n",
       "      display:flex;\n",
       "      flex-wrap:wrap;\n",
       "      gap: 12px;\n",
       "    }\n",
       "\n",
       "    .colab-df-convert {\n",
       "      background-color: #E8F0FE;\n",
       "      border: none;\n",
       "      border-radius: 50%;\n",
       "      cursor: pointer;\n",
       "      display: none;\n",
       "      fill: #1967D2;\n",
       "      height: 32px;\n",
       "      padding: 0 0 0 0;\n",
       "      width: 32px;\n",
       "    }\n",
       "\n",
       "    .colab-df-convert:hover {\n",
       "      background-color: #E2EBFA;\n",
       "      box-shadow: 0px 1px 2px rgba(60, 64, 67, 0.3), 0px 1px 3px 1px rgba(60, 64, 67, 0.15);\n",
       "      fill: #174EA6;\n",
       "    }\n",
       "\n",
       "    [theme=dark] .colab-df-convert {\n",
       "      background-color: #3B4455;\n",
       "      fill: #D2E3FC;\n",
       "    }\n",
       "\n",
       "    [theme=dark] .colab-df-convert:hover {\n",
       "      background-color: #434B5C;\n",
       "      box-shadow: 0px 1px 3px 1px rgba(0, 0, 0, 0.15);\n",
       "      filter: drop-shadow(0px 1px 2px rgba(0, 0, 0, 0.3));\n",
       "      fill: #FFFFFF;\n",
       "    }\n",
       "  </style>\n",
       "\n",
       "      <script>\n",
       "        const buttonEl =\n",
       "          document.querySelector('#df-1a88f55f-a960-48b4-9d0d-4d7c4cf22e10 button.colab-df-convert');\n",
       "        buttonEl.style.display =\n",
       "          google.colab.kernel.accessAllowed ? 'block' : 'none';\n",
       "\n",
       "        async function convertToInteractive(key) {\n",
       "          const element = document.querySelector('#df-1a88f55f-a960-48b4-9d0d-4d7c4cf22e10');\n",
       "          const dataTable =\n",
       "            await google.colab.kernel.invokeFunction('convertToInteractive',\n",
       "                                                     [key], {});\n",
       "          if (!dataTable) return;\n",
       "\n",
       "          const docLinkHtml = 'Like what you see? Visit the ' +\n",
       "            '<a target=\"_blank\" href=https://colab.research.google.com/notebooks/data_table.ipynb>data table notebook</a>'\n",
       "            + ' to learn more about interactive tables.';\n",
       "          element.innerHTML = '';\n",
       "          dataTable['output_type'] = 'display_data';\n",
       "          await google.colab.output.renderOutput(dataTable, element);\n",
       "          const docLink = document.createElement('div');\n",
       "          docLink.innerHTML = docLinkHtml;\n",
       "          element.appendChild(docLink);\n",
       "        }\n",
       "      </script>\n",
       "    </div>\n",
       "  </div>\n",
       "  "
      ],
      "text/plain": [
       "                                               Title  \\\n",
       "0  Structuring automotive product lines and featu...   \n",
       "1  Interventions for Software Security: Creating ...   \n",
       "2  Sustainability analysis and ease of learning i...   \n",
       "3  Light-Touch Interventions to Improve Software ...   \n",
       "4  Academic and Industrial Software Testing Confe...   \n",
       "\n",
       "                                            Abstract  Relevance  \n",
       "0  Automotive systems are highly complex and cust...          0  \n",
       "1  Though some software development teams are hig...          0  \n",
       "2  Context: Artifact-based requirements engineeri...          0  \n",
       "3  Many software developers still have little int...          0  \n",
       "4  Just as with any other profession, an efficien...          0  "
      ]
     },
     "execution_count": 6,
     "metadata": {},
     "output_type": "execute_result"
    }
   ],
   "source": [
    "df_test.head()"
   ]
  },
  {
   "cell_type": "code",
   "execution_count": 7,
   "metadata": {
    "colab": {
     "base_uri": "https://localhost:8080/",
     "height": 293
    },
    "id": "26NLYX562-Tt",
    "outputId": "790ee27b-9278-425d-c668-99c015885eef"
   },
   "outputs": [
    {
     "data": {
      "text/plain": [
       "<matplotlib.axes._subplots.AxesSubplot at 0x7fe4c62e9f10>"
      ]
     },
     "execution_count": 7,
     "metadata": {},
     "output_type": "execute_result"
    },
    {
     "data": {
      "image/png": "[encoded data removed]",
      "text/plain": [
       "<Figure size 432x288 with 1 Axes>"
      ]
     },
     "metadata": {
      "needs_background": "light"
     },
     "output_type": "display_data"
    }
   ],
   "source": [
    "df_train[\"Relevance\"].reset_index().groupby(\"Relevance\").count().sort_values(by=\"index\").plot(kind=\"bar\") # training set is moderately unbalanced"
   ]
  },
  {
   "cell_type": "code",
   "execution_count": 8,
   "metadata": {
    "colab": {
     "base_uri": "https://localhost:8080/",
     "height": 293
    },
    "id": "eG8HqNFIoxpj",
    "outputId": "ded72a3f-06fd-4b8e-9c1b-35c163fe3e73"
   },
   "outputs": [
    {
     "data": {
      "text/plain": [
       "<matplotlib.axes._subplots.AxesSubplot at 0x7fe4c6250a50>"
      ]
     },
     "execution_count": 8,
     "metadata": {},
     "output_type": "execute_result"
    },
    {
     "data": {
      "image/png": "[encoded data removed]",
      "text/plain": [
       "<Figure size 432x288 with 1 Axes>"
      ]
     },
     "metadata": {
      "needs_background": "light"
     },
     "output_type": "display_data"
    }
   ],
   "source": [
    "df_test[\"Relevance\"].reset_index().groupby(\"Relevance\").count().sort_values(by=\"index\").plot(kind=\"bar\") # test set is highly unbalanced"
   ]
  },
  {
   "cell_type": "code",
   "execution_count": 9,
   "metadata": {
    "id": "VEVxUFqwpEDE"
   },
   "outputs": [],
   "source": [
    "df_train = df_train.sample(frac=1).reset_index(drop=True)"
   ]
  },
  {
   "cell_type": "code",
   "execution_count": 10,
   "metadata": {
    "id": "P7iNqgzEiG6J"
   },
   "outputs": [],
   "source": [
    "df_test = df_test.sample(frac=1).reset_index(drop=True)"
   ]
  },
  {
   "cell_type": "code",
   "execution_count": 11,
   "metadata": {
    "colab": {
     "base_uri": "https://localhost:8080/"
    },
    "id": "KsWKt6dYsSfp",
    "outputId": "ec813f42-645d-4da5-f9fa-250f16aad62e"
   },
   "outputs": [
    {
     "data": {
      "text/plain": [
       "Title        object\n",
       "Abstract     object\n",
       "Relevance     int64\n",
       "dtype: object"
      ]
     },
     "execution_count": 11,
     "metadata": {},
     "output_type": "execute_result"
    }
   ],
   "source": [
    "df_train.dtypes "
   ]
  },
  {
   "cell_type": "code",
   "execution_count": 12,
   "metadata": {
    "colab": {
     "base_uri": "https://localhost:8080/"
    },
    "id": "z3Jigxo5Rmhk",
    "outputId": "50661a4d-b7fe-49bf-8bd0-170baa5c6f5f"
   },
   "outputs": [
    {
     "data": {
      "text/plain": [
       "Title        object\n",
       "Abstract     object\n",
       "Relevance     int64\n",
       "dtype: object"
      ]
     },
     "execution_count": 12,
     "metadata": {},
     "output_type": "execute_result"
    }
   ],
   "source": [
    "df_test.dtypes"
   ]
  },
  {
   "cell_type": "code",
   "execution_count": 13,
   "metadata": {
    "colab": {
     "base_uri": "https://localhost:8080/"
    },
    "id": "TD8_5Os1Rs23",
    "outputId": "d3ba3394-7000-4474-d96f-89a56970cad4"
   },
   "outputs": [
    {
     "data": {
      "text/plain": [
       "Title        0\n",
       "Abstract     3\n",
       "Relevance    0\n",
       "dtype: int64"
      ]
     },
     "execution_count": 13,
     "metadata": {},
     "output_type": "execute_result"
    }
   ],
   "source": [
    "df_train.isnull().sum() # nan values"
   ]
  },
  {
   "cell_type": "code",
   "execution_count": 14,
   "metadata": {
    "colab": {
     "base_uri": "https://localhost:8080/"
    },
    "id": "ASbzBv-TRwjP",
    "outputId": "84fd48ab-c7c0-4bed-8df5-a1cddc15c3ee"
   },
   "outputs": [
    {
     "data": {
      "text/plain": [
       "Title        0\n",
       "Abstract     6\n",
       "Relevance    0\n",
       "dtype: int64"
      ]
     },
     "execution_count": 14,
     "metadata": {},
     "output_type": "execute_result"
    }
   ],
   "source": [
    "df_test.isnull().sum() # nan values"
   ]
  },
  {
   "cell_type": "code",
   "execution_count": 15,
   "metadata": {
    "colab": {
     "base_uri": "https://localhost:8080/"
    },
    "id": "Pp_YuisusaRs",
    "outputId": "400a31f5-ff14-4532-fd0b-5e1f17ad001b"
   },
   "outputs": [
    {
     "data": {
      "text/plain": [
       "((131, 3), (539, 3))"
      ]
     },
     "execution_count": 15,
     "metadata": {},
     "output_type": "execute_result"
    }
   ],
   "source": [
    "df_train.shape, df_test.shape"
   ]
  },
  {
   "cell_type": "markdown",
   "metadata": {
    "id": "ivMA4fwulEqN"
   },
   "source": [
    "Removing nan values"
   ]
  },
  {
   "cell_type": "code",
   "execution_count": 16,
   "metadata": {
    "id": "CeHpku6Oj9No"
   },
   "outputs": [],
   "source": [
    "df_train['Abstract'] = df_train['Abstract'].fillna(' ')"
   ]
  },
  {
   "cell_type": "code",
   "execution_count": 17,
   "metadata": {
    "id": "FXTiFmPKiQEE"
   },
   "outputs": [],
   "source": [
    "# Merge the Title and Abstract\n",
    "df_train[\"Merged\"] = df_train[\"Title\"] + df_train[\"Abstract\"]"
   ]
  },
  {
   "cell_type": "code",
   "execution_count": 18,
   "metadata": {
    "colab": {
     "base_uri": "https://localhost:8080/",
     "height": 206
    },
    "id": "bI3p0JXfi9Kp",
    "outputId": "912ec334-c95b-4cec-e54f-f5a54491ef20"
   },
   "outputs": [
    {
     "data": {
      "text/html": [
       "\n",
       "  <div id=\"df-1071bcbc-ebe8-498d-a37e-12172a142ad1\">\n",
       "    <div class=\"colab-df-container\">\n",
       "      <div>\n",
       "<style scoped>\n",
       "    .dataframe tbody tr th:only-of-type {\n",
       "        vertical-align: middle;\n",
       "    }\n",
       "\n",
       "    .dataframe tbody tr th {\n",
       "        vertical-align: top;\n",
       "    }\n",
       "\n",
       "    .dataframe thead th {\n",
       "        text-align: right;\n",
       "    }\n",
       "</style>\n",
       "<table border=\"1\" class=\"dataframe\">\n",
       "  <thead>\n",
       "    <tr style=\"text-align: right;\">\n",
       "      <th></th>\n",
       "      <th>Title</th>\n",
       "      <th>Abstract</th>\n",
       "      <th>Relevance</th>\n",
       "      <th>Merged</th>\n",
       "    </tr>\n",
       "  </thead>\n",
       "  <tbody>\n",
       "    <tr>\n",
       "      <th>0</th>\n",
       "      <td>Collaborative Practice Research</td>\n",
       "      <td>Reports from a systems development research tr...</td>\n",
       "      <td>1</td>\n",
       "      <td>Collaborative Practice ResearchReports from a ...</td>\n",
       "    </tr>\n",
       "    <tr>\n",
       "      <th>1</th>\n",
       "      <td>Improving software security with static automa...</td>\n",
       "      <td>Software security can be improved by identifyi...</td>\n",
       "      <td>0</td>\n",
       "      <td>Improving software security with static automa...</td>\n",
       "    </tr>\n",
       "    <tr>\n",
       "      <th>2</th>\n",
       "      <td>Worldviews, Research Methods, and their Relati...</td>\n",
       "      <td>Background - Validity threats should be consid...</td>\n",
       "      <td>0</td>\n",
       "      <td>Worldviews, Research Methods, and their Relati...</td>\n",
       "    </tr>\n",
       "    <tr>\n",
       "      <th>3</th>\n",
       "      <td>Research Collaborations between Academia and I...</td>\n",
       "      <td>The rapid and complex research and innovation ...</td>\n",
       "      <td>1</td>\n",
       "      <td>Research Collaborations between Academia and I...</td>\n",
       "    </tr>\n",
       "    <tr>\n",
       "      <th>4</th>\n",
       "      <td>Investigating Information Systems with Action ...</td>\n",
       "      <td>Action research is an established research met...</td>\n",
       "      <td>0</td>\n",
       "      <td>Investigating Information Systems with Action ...</td>\n",
       "    </tr>\n",
       "  </tbody>\n",
       "</table>\n",
       "</div>\n",
       "      <button class=\"colab-df-convert\" onclick=\"convertToInteractive('df-1071bcbc-ebe8-498d-a37e-12172a142ad1')\"\n",
       "              title=\"Convert this dataframe to an interactive table.\"\n",
       "              style=\"display:none;\">\n",
       "        \n",
       "  <svg xmlns=\"http://www.w3.org/2000/svg\" height=\"24px\"viewBox=\"0 0 24 24\"\n",
       "       width=\"24px\">\n",
       "    <path d=\"M0 0h24v24H0V0z\" fill=\"none\"/>\n",
       "    <path d=\"M18.56 5.44l.94 2.06.94-2.06 2.06-.94-2.06-.94-.94-2.06-.94 2.06-2.06.94zm-11 1L8.5 8.5l.94-2.06 2.06-.94-2.06-.94L8.5 2.5l-.94 2.06-2.06.94zm10 10l.94 2.06.94-2.06 2.06-.94-2.06-.94-.94-2.06-.94 2.06-2.06.94z\"/><path d=\"M17.41 7.96l-1.37-1.37c-.4-.4-.92-.59-1.43-.59-.52 0-1.04.2-1.43.59L10.3 9.45l-7.72 7.72c-.78.78-.78 2.05 0 2.83L4 21.41c.39.39.9.59 1.41.59.51 0 1.02-.2 1.41-.59l7.78-7.78 2.81-2.81c.8-.78.8-2.07 0-2.86zM5.41 20L4 18.59l7.72-7.72 1.47 1.35L5.41 20z\"/>\n",
       "  </svg>\n",
       "      </button>\n",
       "      \n",
       "  <style>\n",
       "    .colab-df-container {\n",
       "      display:flex;\n",
       "      flex-wrap:wrap;\n",
       "      gap: 12px;\n",
       "    }\n",
       "\n",
       "    .colab-df-convert {\n",
       "      background-color: #E8F0FE;\n",
       "      border: none;\n",
       "      border-radius: 50%;\n",
       "      cursor: pointer;\n",
       "      display: none;\n",
       "      fill: #1967D2;\n",
       "      height: 32px;\n",
       "      padding: 0 0 0 0;\n",
       "      width: 32px;\n",
       "    }\n",
       "\n",
       "    .colab-df-convert:hover {\n",
       "      background-color: #E2EBFA;\n",
       "      box-shadow: 0px 1px 2px rgba(60, 64, 67, 0.3), 0px 1px 3px 1px rgba(60, 64, 67, 0.15);\n",
       "      fill: #174EA6;\n",
       "    }\n",
       "\n",
       "    [theme=dark] .colab-df-convert {\n",
       "      background-color: #3B4455;\n",
       "      fill: #D2E3FC;\n",
       "    }\n",
       "\n",
       "    [theme=dark] .colab-df-convert:hover {\n",
       "      background-color: #434B5C;\n",
       "      box-shadow: 0px 1px 3px 1px rgba(0, 0, 0, 0.15);\n",
       "      filter: drop-shadow(0px 1px 2px rgba(0, 0, 0, 0.3));\n",
       "      fill: #FFFFFF;\n",
       "    }\n",
       "  </style>\n",
       "\n",
       "      <script>\n",
       "        const buttonEl =\n",
       "          document.querySelector('#df-1071bcbc-ebe8-498d-a37e-12172a142ad1 button.colab-df-convert');\n",
       "        buttonEl.style.display =\n",
       "          google.colab.kernel.accessAllowed ? 'block' : 'none';\n",
       "\n",
       "        async function convertToInteractive(key) {\n",
       "          const element = document.querySelector('#df-1071bcbc-ebe8-498d-a37e-12172a142ad1');\n",
       "          const dataTable =\n",
       "            await google.colab.kernel.invokeFunction('convertToInteractive',\n",
       "                                                     [key], {});\n",
       "          if (!dataTable) return;\n",
       "\n",
       "          const docLinkHtml = 'Like what you see? Visit the ' +\n",
       "            '<a target=\"_blank\" href=https://colab.research.google.com/notebooks/data_table.ipynb>data table notebook</a>'\n",
       "            + ' to learn more about interactive tables.';\n",
       "          element.innerHTML = '';\n",
       "          dataTable['output_type'] = 'display_data';\n",
       "          await google.colab.output.renderOutput(dataTable, element);\n",
       "          const docLink = document.createElement('div');\n",
       "          docLink.innerHTML = docLinkHtml;\n",
       "          element.appendChild(docLink);\n",
       "        }\n",
       "      </script>\n",
       "    </div>\n",
       "  </div>\n",
       "  "
      ],
      "text/plain": [
       "                                               Title  \\\n",
       "0                    Collaborative Practice Research   \n",
       "1  Improving software security with static automa...   \n",
       "2  Worldviews, Research Methods, and their Relati...   \n",
       "3  Research Collaborations between Academia and I...   \n",
       "4  Investigating Information Systems with Action ...   \n",
       "\n",
       "                                            Abstract  Relevance  \\\n",
       "0  Reports from a systems development research tr...          1   \n",
       "1  Software security can be improved by identifyi...          0   \n",
       "2  Background - Validity threats should be consid...          0   \n",
       "3  The rapid and complex research and innovation ...          1   \n",
       "4  Action research is an established research met...          0   \n",
       "\n",
       "                                              Merged  \n",
       "0  Collaborative Practice ResearchReports from a ...  \n",
       "1  Improving software security with static automa...  \n",
       "2  Worldviews, Research Methods, and their Relati...  \n",
       "3  Research Collaborations between Academia and I...  \n",
       "4  Investigating Information Systems with Action ...  "
      ]
     },
     "execution_count": 18,
     "metadata": {},
     "output_type": "execute_result"
    }
   ],
   "source": [
    "df_train.head()"
   ]
  },
  {
   "cell_type": "code",
   "execution_count": 19,
   "metadata": {
    "colab": {
     "base_uri": "https://localhost:8080/"
    },
    "id": "Hb2AfpwyjBBC",
    "outputId": "f70cc12c-fea5-4e77-843d-2525542fcf26"
   },
   "outputs": [
    {
     "data": {
      "text/plain": [
       "Title        0\n",
       "Abstract     0\n",
       "Relevance    0\n",
       "Merged       0\n",
       "dtype: int64"
      ]
     },
     "execution_count": 19,
     "metadata": {},
     "output_type": "execute_result"
    }
   ],
   "source": [
    "df_train.isnull().sum()"
   ]
  },
  {
   "cell_type": "code",
   "execution_count": 20,
   "metadata": {
    "id": "LYkmw6vPlkcj"
   },
   "outputs": [],
   "source": [
    "df_test['Abstract'] = df_test['Abstract'].fillna(' ')\n",
    "df_test[\"Merged\"] = df_test[\"Title\"] + df_test[\"Abstract\"]"
   ]
  },
  {
   "cell_type": "code",
   "execution_count": 21,
   "metadata": {
    "colab": {
     "base_uri": "https://localhost:8080/",
     "height": 206
    },
    "id": "FR-HG1pkltnG",
    "outputId": "a1140bdb-e876-455c-87fe-1f96f5d30d7b"
   },
   "outputs": [
    {
     "data": {
      "text/html": [
       "\n",
       "  <div id=\"df-ad38daa9-cfa1-46d7-b4d6-a7ee46cb449e\">\n",
       "    <div class=\"colab-df-container\">\n",
       "      <div>\n",
       "<style scoped>\n",
       "    .dataframe tbody tr th:only-of-type {\n",
       "        vertical-align: middle;\n",
       "    }\n",
       "\n",
       "    .dataframe tbody tr th {\n",
       "        vertical-align: top;\n",
       "    }\n",
       "\n",
       "    .dataframe thead th {\n",
       "        text-align: right;\n",
       "    }\n",
       "</style>\n",
       "<table border=\"1\" class=\"dataframe\">\n",
       "  <thead>\n",
       "    <tr style=\"text-align: right;\">\n",
       "      <th></th>\n",
       "      <th>Title</th>\n",
       "      <th>Abstract</th>\n",
       "      <th>Relevance</th>\n",
       "      <th>Merged</th>\n",
       "    </tr>\n",
       "  </thead>\n",
       "  <tbody>\n",
       "    <tr>\n",
       "      <th>0</th>\n",
       "      <td>Factors for Adopting and Implementing Accessib...</td>\n",
       "      <td>Due to the increasing prevalence of laws, stan...</td>\n",
       "      <td>0</td>\n",
       "      <td>Factors for Adopting and Implementing Accessib...</td>\n",
       "    </tr>\n",
       "    <tr>\n",
       "      <th>1</th>\n",
       "      <td>MeSRAM - A method for assessing robustness of ...</td>\n",
       "      <td>Measurement programs in large software develop...</td>\n",
       "      <td>0</td>\n",
       "      <td>MeSRAM - A method for assessing robustness of ...</td>\n",
       "    </tr>\n",
       "    <tr>\n",
       "      <th>2</th>\n",
       "      <td>A Pearson Correlation Analysis of the Software...</td>\n",
       "      <td>Is well-known that software development proces...</td>\n",
       "      <td>0</td>\n",
       "      <td>A Pearson Correlation Analysis of the Software...</td>\n",
       "    </tr>\n",
       "    <tr>\n",
       "      <th>3</th>\n",
       "      <td>Light-Touch Interventions to Improve Software ...</td>\n",
       "      <td>Many software developers still have little int...</td>\n",
       "      <td>0</td>\n",
       "      <td>Light-Touch Interventions to Improve Software ...</td>\n",
       "    </tr>\n",
       "    <tr>\n",
       "      <th>4</th>\n",
       "      <td>Knowledge and technology transfer in sustainab...</td>\n",
       "      <td>This article aimed to propose and test a model...</td>\n",
       "      <td>0</td>\n",
       "      <td>Knowledge and technology transfer in sustainab...</td>\n",
       "    </tr>\n",
       "  </tbody>\n",
       "</table>\n",
       "</div>\n",
       "      <button class=\"colab-df-convert\" onclick=\"convertToInteractive('df-ad38daa9-cfa1-46d7-b4d6-a7ee46cb449e')\"\n",
       "              title=\"Convert this dataframe to an interactive table.\"\n",
       "              style=\"display:none;\">\n",
       "        \n",
       "  <svg xmlns=\"http://www.w3.org/2000/svg\" height=\"24px\"viewBox=\"0 0 24 24\"\n",
       "       width=\"24px\">\n",
       "    <path d=\"M0 0h24v24H0V0z\" fill=\"none\"/>\n",
       "    <path d=\"M18.56 5.44l.94 2.06.94-2.06 2.06-.94-2.06-.94-.94-2.06-.94 2.06-2.06.94zm-11 1L8.5 8.5l.94-2.06 2.06-.94-2.06-.94L8.5 2.5l-.94 2.06-2.06.94zm10 10l.94 2.06.94-2.06 2.06-.94-2.06-.94-.94-2.06-.94 2.06-2.06.94z\"/><path d=\"M17.41 7.96l-1.37-1.37c-.4-.4-.92-.59-1.43-.59-.52 0-1.04.2-1.43.59L10.3 9.45l-7.72 7.72c-.78.78-.78 2.05 0 2.83L4 21.41c.39.39.9.59 1.41.59.51 0 1.02-.2 1.41-.59l7.78-7.78 2.81-2.81c.8-.78.8-2.07 0-2.86zM5.41 20L4 18.59l7.72-7.72 1.47 1.35L5.41 20z\"/>\n",
       "  </svg>\n",
       "      </button>\n",
       "      \n",
       "  <style>\n",
       "    .colab-df-container {\n",
       "      display:flex;\n",
       "      flex-wrap:wrap;\n",
       "      gap: 12px;\n",
       "    }\n",
       "\n",
       "    .colab-df-convert {\n",
       "      background-color: #E8F0FE;\n",
       "      border: none;\n",
       "      border-radius: 50%;\n",
       "      cursor: pointer;\n",
       "      display: none;\n",
       "      fill: #1967D2;\n",
       "      height: 32px;\n",
       "      padding: 0 0 0 0;\n",
       "      width: 32px;\n",
       "    }\n",
       "\n",
       "    .colab-df-convert:hover {\n",
       "      background-color: #E2EBFA;\n",
       "      box-shadow: 0px 1px 2px rgba(60, 64, 67, 0.3), 0px 1px 3px 1px rgba(60, 64, 67, 0.15);\n",
       "      fill: #174EA6;\n",
       "    }\n",
       "\n",
       "    [theme=dark] .colab-df-convert {\n",
       "      background-color: #3B4455;\n",
       "      fill: #D2E3FC;\n",
       "    }\n",
       "\n",
       "    [theme=dark] .colab-df-convert:hover {\n",
       "      background-color: #434B5C;\n",
       "      box-shadow: 0px 1px 3px 1px rgba(0, 0, 0, 0.15);\n",
       "      filter: drop-shadow(0px 1px 2px rgba(0, 0, 0, 0.3));\n",
       "      fill: #FFFFFF;\n",
       "    }\n",
       "  </style>\n",
       "\n",
       "      <script>\n",
       "        const buttonEl =\n",
       "          document.querySelector('#df-ad38daa9-cfa1-46d7-b4d6-a7ee46cb449e button.colab-df-convert');\n",
       "        buttonEl.style.display =\n",
       "          google.colab.kernel.accessAllowed ? 'block' : 'none';\n",
       "\n",
       "        async function convertToInteractive(key) {\n",
       "          const element = document.querySelector('#df-ad38daa9-cfa1-46d7-b4d6-a7ee46cb449e');\n",
       "          const dataTable =\n",
       "            await google.colab.kernel.invokeFunction('convertToInteractive',\n",
       "                                                     [key], {});\n",
       "          if (!dataTable) return;\n",
       "\n",
       "          const docLinkHtml = 'Like what you see? Visit the ' +\n",
       "            '<a target=\"_blank\" href=https://colab.research.google.com/notebooks/data_table.ipynb>data table notebook</a>'\n",
       "            + ' to learn more about interactive tables.';\n",
       "          element.innerHTML = '';\n",
       "          dataTable['output_type'] = 'display_data';\n",
       "          await google.colab.output.renderOutput(dataTable, element);\n",
       "          const docLink = document.createElement('div');\n",
       "          docLink.innerHTML = docLinkHtml;\n",
       "          element.appendChild(docLink);\n",
       "        }\n",
       "      </script>\n",
       "    </div>\n",
       "  </div>\n",
       "  "
      ],
      "text/plain": [
       "                                               Title  \\\n",
       "0  Factors for Adopting and Implementing Accessib...   \n",
       "1  MeSRAM - A method for assessing robustness of ...   \n",
       "2  A Pearson Correlation Analysis of the Software...   \n",
       "3  Light-Touch Interventions to Improve Software ...   \n",
       "4  Knowledge and technology transfer in sustainab...   \n",
       "\n",
       "                                            Abstract  Relevance  \\\n",
       "0  Due to the increasing prevalence of laws, stan...          0   \n",
       "1  Measurement programs in large software develop...          0   \n",
       "2  Is well-known that software development proces...          0   \n",
       "3  Many software developers still have little int...          0   \n",
       "4  This article aimed to propose and test a model...          0   \n",
       "\n",
       "                                              Merged  \n",
       "0  Factors for Adopting and Implementing Accessib...  \n",
       "1  MeSRAM - A method for assessing robustness of ...  \n",
       "2  A Pearson Correlation Analysis of the Software...  \n",
       "3  Light-Touch Interventions to Improve Software ...  \n",
       "4  Knowledge and technology transfer in sustainab...  "
      ]
     },
     "execution_count": 21,
     "metadata": {},
     "output_type": "execute_result"
    }
   ],
   "source": [
    "df_test.head()"
   ]
  },
  {
   "cell_type": "code",
   "execution_count": 22,
   "metadata": {
    "colab": {
     "base_uri": "https://localhost:8080/"
    },
    "id": "TNDqtMuLlwHg",
    "outputId": "9db25472-a9da-4f30-da39-7759c8e5554d"
   },
   "outputs": [
    {
     "data": {
      "text/plain": [
       "Title        0\n",
       "Abstract     0\n",
       "Relevance    0\n",
       "Merged       0\n",
       "dtype: int64"
      ]
     },
     "execution_count": 22,
     "metadata": {},
     "output_type": "execute_result"
    }
   ],
   "source": [
    "df_test.isnull().sum()"
   ]
  },
  {
   "cell_type": "code",
   "execution_count": 23,
   "metadata": {
    "id": "GLGo7cHcslJx"
   },
   "outputs": [],
   "source": [
    "X_train = df_train[\"Merged\"]\n",
    "y_train = df_train[\"Relevance\"]"
   ]
  },
  {
   "cell_type": "code",
   "execution_count": 48,
   "metadata": {
    "id": "d9_Z6nPTuIE6"
   },
   "outputs": [],
   "source": [
    "X_test = df_test[\"Merged\"]\n",
    "y_test = df_test[\"Relevance\"]"
   ]
  },
  {
   "cell_type": "code",
   "execution_count": 25,
   "metadata": {
    "id": "LF5kp_wM1TY-"
   },
   "outputs": [],
   "source": [
    "X_train = X_train.astype(str)"
   ]
  },
  {
   "cell_type": "code",
   "execution_count": 49,
   "metadata": {
    "id": "iqAaDHzTwdPR"
   },
   "outputs": [],
   "source": [
    "X_test = X_test.astype(str) "
   ]
  },
  {
   "cell_type": "code",
   "execution_count": 28,
   "metadata": {
    "colab": {
     "base_uri": "https://localhost:8080/"
    },
    "id": "2cCzUAGDcM6Z",
    "outputId": "14d8adc0-89ea-4779-ca4e-12b1f8ef7035"
   },
   "outputs": [
    {
     "data": {
      "text/plain": [
       "0      Collaborative Practice ResearchReports from a ...\n",
       "1      Improving software security with static automa...\n",
       "2      Worldviews, Research Methods, and their Relati...\n",
       "3      Research Collaborations between Academia and I...\n",
       "4      Investigating Information Systems with Action ...\n",
       "                             ...                        \n",
       "126    Get the Cogs in Synch: Time Horizon Aspects of...\n",
       "127    Some researcher considerations when conducting...\n",
       "128    Network Analysis of a Large Scale Open Source ...\n",
       "129    Action Research as a Model for Industry-Academ...\n",
       "130    An Assessment of the Scientific Merits of Acti...\n",
       "Name: Merged, Length: 131, dtype: object"
      ]
     },
     "execution_count": 28,
     "metadata": {},
     "output_type": "execute_result"
    }
   ],
   "source": [
    "X_train"
   ]
  },
  {
   "cell_type": "code",
   "execution_count": 50,
   "metadata": {
    "colab": {
     "base_uri": "https://localhost:8080/"
    },
    "id": "WnqVLo9EK55y",
    "outputId": "2fc23f51-c841-40a0-b866-882be0143ba0"
   },
   "outputs": [
    {
     "data": {
      "text/plain": [
       "0      Factors for Adopting and Implementing Accessib...\n",
       "1      MeSRAM - A method for assessing robustness of ...\n",
       "2      A Pearson Correlation Analysis of the Software...\n",
       "3      Light-Touch Interventions to Improve Software ...\n",
       "4      Knowledge and technology transfer in sustainab...\n",
       "                             ...                        \n",
       "534    A case study of industry--academia communicati...\n",
       "535    Lessons Learned from a Lean R\\&D ProjectIn a p...\n",
       "536    A general theory of software engineering: Bala...\n",
       "537    Knowledge Management in University-Software In...\n",
       "538    Assessing the effects of introducing a new sof...\n",
       "Name: Merged, Length: 539, dtype: object"
      ]
     },
     "execution_count": 50,
     "metadata": {},
     "output_type": "execute_result"
    }
   ],
   "source": [
    "X_test"
   ]
  },
  {
   "cell_type": "markdown",
   "metadata": {
    "id": "Nu5Bp-kVd14F"
   },
   "source": [
    "Text Preprocessing"
   ]
  },
  {
   "cell_type": "code",
   "execution_count": 29,
   "metadata": {
    "colab": {
     "base_uri": "https://localhost:8080/"
    },
    "id": "K_kBL43dch4E",
    "outputId": "205ecc62-43bd-485f-aa97-406c363223f9"
   },
   "outputs": [
    {
     "name": "stderr",
     "output_type": "stream",
     "text": [
      "[nltk_data] Downloading package stopwords to /root/nltk_data...\n",
      "[nltk_data]   Unzipping corpora/stopwords.zip.\n"
     ]
    },
    {
     "data": {
      "text/plain": [
       "True"
      ]
     },
     "execution_count": 29,
     "metadata": {},
     "output_type": "execute_result"
    }
   ],
   "source": [
    "nltk.download(\"stopwords\")"
   ]
  },
  {
   "cell_type": "code",
   "execution_count": 30,
   "metadata": {
    "id": "bJfPmI9FctEE"
   },
   "outputs": [],
   "source": [
    "#stopwords removal\n",
    "def remove_stopwords(x):\n",
    "    cap = x.split()\n",
    "    cap = [w.lower() for w in cap]\n",
    "    cap = [w for w in cap if w not in stopwords.words('english')]\n",
    "    cap = [w for w in cap if w not in string.punctuation]\n",
    "    return ' '.join(cap)\n",
    "\n",
    "\n",
    "X_train = X_train.apply(remove_stopwords)"
   ]
  },
  {
   "cell_type": "code",
   "execution_count": 31,
   "metadata": {
    "id": "hTKf9pI2c1uE"
   },
   "outputs": [],
   "source": [
    "#tokenisation\n",
    "def reduce_count(st):\n",
    "    words = st.split()\n",
    "    chars = ['-','.','&','=']\n",
    "    for char in string.punctuation:\n",
    "        words = [w for w in words if char not in w]\n",
    "    words = [w for w in words if 5000 > tokenizer.word_counts[w] > 10]\n",
    "    words.insert(0,'startseq')\n",
    "    words.append('endseq')\n",
    "    words = ' '.join(words)\n",
    "    \n",
    "    return words\n",
    "\n",
    "for i in range(2):\n",
    "    tokenizer = Tokenizer(oov_token='OOV')\n",
    "    tokenizer.fit_on_texts(X_train)\n",
    "    X_train = X_train.apply(reduce_count)\n",
    "    tokenizer = Tokenizer(oov_token='OOV')\n",
    "    tokenizer.fit_on_texts(X_train)"
   ]
  },
  {
   "cell_type": "code",
   "execution_count": 32,
   "metadata": {
    "id": "bQhYH5-_c89a"
   },
   "outputs": [],
   "source": [
    "#remove punctuation\n",
    "PUNCT_TO_REMOVE = string.punctuation\n",
    "def remove_punctuation(text):\n",
    "    return text.translate(str.maketrans('', '', PUNCT_TO_REMOVE))\n",
    "\n",
    "X_train = X_train.apply(lambda text: remove_punctuation(text))"
   ]
  },
  {
   "cell_type": "code",
   "execution_count": 33,
   "metadata": {
    "colab": {
     "base_uri": "https://localhost:8080/"
    },
    "id": "DNAr9bvndHET",
    "outputId": "555f33fe-1b66-4363-e00d-37b5fa3efa9d"
   },
   "outputs": [
    {
     "data": {
      "text/plain": [
       "0      startseq startseq collaborative practice syste...\n",
       "1      startseq startseq software security analysis i...\n",
       "2      startseq startseq research empirical software ...\n",
       "3      startseq startseq research academia research i...\n",
       "4      startseq startseq information systems action r...\n",
       "                             ...                        \n",
       "126    startseq startseq time collaboration many issu...\n",
       "127    startseq startseq conducting empirical studies...\n",
       "128    startseq startseq analysis large open way open...\n",
       "129    startseq startseq action research model collab...\n",
       "130    startseq startseq action science knowledge use...\n",
       "Name: Merged, Length: 131, dtype: object"
      ]
     },
     "execution_count": 33,
     "metadata": {},
     "output_type": "execute_result"
    }
   ],
   "source": [
    "#remove urls\n",
    "import re\n",
    "def removeurls(text):\n",
    "    url_pattern = re.compile(r'https?://\\S+|www\\.\\S+')\n",
    "    return url_pattern.sub(r'', text)\n",
    "\n",
    "X_train = X_train.apply(lambda text: removeurls(text))\n",
    "\n",
    "X_train"
   ]
  },
  {
   "cell_type": "code",
   "execution_count": 37,
   "metadata": {
    "colab": {
     "base_uri": "https://localhost:8080/"
    },
    "id": "oDRpbeJAdVdq",
    "outputId": "272fd10f-685c-4d89-8e2e-e56146da43c3"
   },
   "outputs": [
    {
     "data": {
      "text/plain": [
       "0      startseq startseq collaborative practice syste...\n",
       "1      startseq startseq software security analysis i...\n",
       "2      startseq startseq research empirical software ...\n",
       "3      startseq startseq research academia research i...\n",
       "4      startseq startseq information system action re...\n",
       "                             ...                        \n",
       "126    startseq startseq time collaboration many issu...\n",
       "127    startseq startseq conduct empirical study must...\n",
       "128    startseq startseq analysis large open way open...\n",
       "129    startseq startseq action research model collab...\n",
       "130    startseq startseq action science knowledge use...\n",
       "Name: Merged, Length: 131, dtype: object"
      ]
     },
     "execution_count": 37,
     "metadata": {},
     "output_type": "execute_result"
    }
   ],
   "source": [
    "nlp = spacy.load('en_core_web_sm')\n",
    "nlp.disable_pipes('ner', 'parser')\n",
    "#lemmatisation\n",
    "def space(review):\n",
    "    doc = nlp(review)\n",
    "    return \" \".join([token.lemma_ for token in doc])\n",
    "\n",
    "X_train = X_train.apply(space)\n",
    "X_train"
   ]
  },
  {
   "cell_type": "markdown",
   "metadata": {
    "id": "zT_tFLLPd9iy"
   },
   "source": [
    "Tokenization"
   ]
  },
  {
   "cell_type": "code",
   "execution_count": 103,
   "metadata": {
    "colab": {
     "base_uri": "https://localhost:8080/"
    },
    "id": "DsPiv5QVduMy",
    "outputId": "fe8aea44-bd7a-4200-d8c4-4bd7487ea51d"
   },
   "outputs": [
    {
     "name": "stderr",
     "output_type": "stream",
     "text": [
      "/usr/local/lib/python3.7/dist-packages/sklearn/feature_extraction/text.py:517: UserWarning: The parameter 'token_pattern' will not be used since 'tokenizer' is not None'\n",
      "  \"The parameter 'token_pattern' will not be used\"\n"
     ]
    },
    {
     "data": {
      "text/plain": [
       "CountVectorizer(stop_words='english',\n",
       "                tokenizer=<bound method RegexpTokenizer.tokenize of RegexpTokenizer(pattern='[a-zA-Z0-9]+', gaps=False, discard_empty=True, flags=<RegexFlag.UNICODE|DOTALL|MULTILINE: 56>)>)"
      ]
     },
     "execution_count": 103,
     "metadata": {},
     "output_type": "execute_result"
    }
   ],
   "source": [
    "#Vectorisation and Tokenisation\n",
    "from sklearn.feature_extraction.text import CountVectorizer\n",
    "from nltk.tokenize import RegexpTokenizer\n",
    "token = RegexpTokenizer(r'[a-zA-Z0-9]+')\n",
    "cv = CountVectorizer(stop_words='english',ngram_range = (1,1),tokenizer = token.tokenize)\n",
    "cv.fit(X_train)"
   ]
  },
  {
   "cell_type": "code",
   "execution_count": 104,
   "metadata": {
    "id": "z-cHAb9XMtoJ"
   },
   "outputs": [],
   "source": [
    "text_counts = cv.transform(X_train)"
   ]
  },
  {
   "cell_type": "markdown",
   "metadata": {
    "id": "eKQmyo9PJZTy"
   },
   "source": [
    "Repeat above processing on Test set\n"
   ]
  },
  {
   "cell_type": "code",
   "execution_count": 51,
   "metadata": {
    "id": "tE5ZSTKAJYq1"
   },
   "outputs": [],
   "source": [
    "X_test = X_test.apply(remove_stopwords)\n",
    "\n",
    "for i in range(2):\n",
    "    tokenizer = Tokenizer(oov_token='OOV')\n",
    "    tokenizer.fit_on_texts(X_test)\n",
    "    X_test = X_test.apply(reduce_count)\n",
    "    tokenizer = Tokenizer(oov_token='OOV')\n",
    "    tokenizer.fit_on_texts(X_test)\n",
    "\n",
    "X_test = X_test.apply(lambda text: remove_punctuation(text))\n",
    "\n",
    "X_test = X_test.apply(lambda text: removeurls(text))\n",
    "\n",
    "X_test = X_test.apply(space)\n"
   ]
  },
  {
   "cell_type": "code",
   "execution_count": 105,
   "metadata": {
    "id": "dxGuEDARM1Tu"
   },
   "outputs": [],
   "source": [
    "test_text_counts = cv.transform(X_test)"
   ]
  },
  {
   "cell_type": "code",
   "execution_count": 58,
   "metadata": {
    "colab": {
     "base_uri": "https://localhost:8080/"
    },
    "id": "i8Gp5mFtKqXD",
    "outputId": "ad8bdb76-77ce-4b9e-9bde-824bdb552ce9"
   },
   "outputs": [
    {
     "data": {
      "text/plain": [
       "0      startseq startseq factor adopt implement softw...\n",
       "1      startseq startseq method assess measurement pr...\n",
       "2      startseq startseq analysis practice industry s...\n",
       "3      startseq startseq intervention improve softwar...\n",
       "4      startseq startseq knowledge technology transfe...\n",
       "                             ...                        \n",
       "534    startseq startseq case study communication joi...\n",
       "535    startseq startseq lesson learn lean partnershi...\n",
       "536    startseq startseq general theory software soci...\n",
       "537    startseq startseq knowledge management industr...\n",
       "538    startseq startseq assess effect new software d...\n",
       "Name: Merged, Length: 539, dtype: object"
      ]
     },
     "execution_count": 58,
     "metadata": {},
     "output_type": "execute_result"
    }
   ],
   "source": [
    "X_test"
   ]
  },
  {
   "cell_type": "markdown",
   "metadata": {
    "id": "WdQc7Y5aeF7C"
   },
   "source": [
    "ML models on Naive Bayes"
   ]
  },
  {
   "cell_type": "code",
   "execution_count": 64,
   "metadata": {
    "id": "eBa0UKr-NfVL"
   },
   "outputs": [],
   "source": [
    "from sklearn import metrics"
   ]
  },
  {
   "cell_type": "code",
   "execution_count": 106,
   "metadata": {
    "colab": {
     "base_uri": "https://localhost:8080/"
    },
    "id": "VvwFP2LDdzia",
    "outputId": "20e2bde6-c52c-4d0d-f5d1-093a6bde8dbf"
   },
   "outputs": [
    {
     "data": {
      "text/plain": [
       "MultinomialNB()"
      ]
     },
     "execution_count": 106,
     "metadata": {},
     "output_type": "execute_result"
    }
   ],
   "source": [
    "from sklearn.naive_bayes import MultinomialNB\n",
    "#Multinomial Naive Bayes\n",
    "MNB = MultinomialNB()\n",
    "MNB.fit(text_counts, y_train)"
   ]
  },
  {
   "cell_type": "code",
   "execution_count": 107,
   "metadata": {
    "colab": {
     "base_uri": "https://localhost:8080/"
    },
    "id": "deEIFsmJJROc",
    "outputId": "5ca1eec9-5383-48f9-e90f-4ded0fc1307b"
   },
   "outputs": [
    {
     "data": {
      "text/plain": [
       "0.8702290076335878"
      ]
     },
     "execution_count": 107,
     "metadata": {},
     "output_type": "execute_result"
    }
   ],
   "source": [
    "MNB.score(text_counts, y_train)"
   ]
  },
  {
   "cell_type": "code",
   "execution_count": 108,
   "metadata": {
    "colab": {
     "base_uri": "https://localhost:8080/"
    },
    "id": "ntK5JihGNp9q",
    "outputId": "65355247-6b23-428d-c191-c6a1cc021820"
   },
   "outputs": [
    {
     "name": "stdout",
     "output_type": "stream",
     "text": [
      "              precision    recall  f1-score   support\n",
      "\n",
      "           0       0.81      0.99      0.89        71\n",
      "           1       0.98      0.73      0.84        60\n",
      "\n",
      "    accuracy                           0.87       131\n",
      "   macro avg       0.90      0.86      0.86       131\n",
      "weighted avg       0.89      0.87      0.87       131\n",
      "\n"
     ]
    }
   ],
   "source": [
    "print(metrics.classification_report(MNB.predict(text_counts), y_train))"
   ]
  },
  {
   "cell_type": "code",
   "execution_count": 109,
   "metadata": {
    "id": "0ylgeJkqebWk"
   },
   "outputs": [],
   "source": [
    "predicted = MNB.predict(test_text_counts)\n",
    "accuracy_score = metrics.accuracy_score(predicted, y_test)"
   ]
  },
  {
   "cell_type": "code",
   "execution_count": 110,
   "metadata": {
    "colab": {
     "base_uri": "https://localhost:8080/"
    },
    "id": "E-78Q5oheejK",
    "outputId": "f0a44bd2-e212-470e-c20b-5469da4e6936"
   },
   "outputs": [
    {
     "name": "stdout",
     "output_type": "stream",
     "text": [
      "68.09%\n"
     ]
    }
   ],
   "source": [
    "print(str('{:04.2f}'.format(accuracy_score*100))+'%')"
   ]
  },
  {
   "cell_type": "code",
   "execution_count": 111,
   "metadata": {
    "colab": {
     "base_uri": "https://localhost:8080/"
    },
    "id": "Pal4Ri_lNFxh",
    "outputId": "fa80215b-68a6-47ae-9dcd-ebeb4bd80fe3"
   },
   "outputs": [
    {
     "name": "stdout",
     "output_type": "stream",
     "text": [
      "              precision    recall  f1-score   support\n",
      "\n",
      "           0       0.68      0.97      0.80       351\n",
      "           1       0.72      0.14      0.23       188\n",
      "\n",
      "    accuracy                           0.68       539\n",
      "   macro avg       0.70      0.55      0.52       539\n",
      "weighted avg       0.69      0.68      0.60       539\n",
      "\n"
     ]
    }
   ],
   "source": [
    "print(metrics.classification_report(predicted, y_test))"
   ]
  },
  {
   "cell_type": "code",
   "execution_count": 88,
   "metadata": {
    "colab": {
     "base_uri": "https://localhost:8080/"
    },
    "id": "7JWXDInuemXJ",
    "outputId": "27780564-0491-4559-85f7-65c0d1965046"
   },
   "outputs": [
    {
     "name": "stderr",
     "output_type": "stream",
     "text": [
      "/usr/local/lib/python3.7/dist-packages/sklearn/feature_extraction/text.py:517: UserWarning: The parameter 'token_pattern' will not be used since 'tokenizer' is not None'\n",
      "  \"The parameter 'token_pattern' will not be used\"\n"
     ]
    }
   ],
   "source": [
    "#increasing n-gram range\n",
    "cv1 = CountVectorizer(stop_words='english', ngram_range = (5,15), tokenizer = token.tokenize)\n",
    "cv1.fit(X_train)\n",
    "text_train = cv1.transform(X_train)\n",
    "text_test = cv1.transform(X_test)\n"
   ]
  },
  {
   "cell_type": "code",
   "execution_count": 89,
   "metadata": {
    "colab": {
     "base_uri": "https://localhost:8080/"
    },
    "id": "gna_DKpGRmiY",
    "outputId": "7c42c3e2-04fb-4263-a1a4-a029f925a9ae"
   },
   "outputs": [
    {
     "data": {
      "text/plain": [
       "MultinomialNB()"
      ]
     },
     "execution_count": 89,
     "metadata": {},
     "output_type": "execute_result"
    }
   ],
   "source": [
    "MNB = MultinomialNB()\n",
    "MNB.fit(text_train, y_train)"
   ]
  },
  {
   "cell_type": "code",
   "execution_count": 90,
   "metadata": {
    "colab": {
     "base_uri": "https://localhost:8080/"
    },
    "id": "kTnrFrHqP8s2",
    "outputId": "ad65d089-63ac-4929-e857-4655aea42220"
   },
   "outputs": [
    {
     "data": {
      "text/plain": [
       "1.0"
      ]
     },
     "execution_count": 90,
     "metadata": {},
     "output_type": "execute_result"
    }
   ],
   "source": [
    "MNB.score(text_train, y_train)"
   ]
  },
  {
   "cell_type": "code",
   "execution_count": 91,
   "metadata": {
    "colab": {
     "base_uri": "https://localhost:8080/"
    },
    "id": "oMZGkUduQH6a",
    "outputId": "bf5e0f7f-91c6-401b-d1fa-153fed674849"
   },
   "outputs": [
    {
     "name": "stdout",
     "output_type": "stream",
     "text": [
      "              precision    recall  f1-score   support\n",
      "\n",
      "           0       1.00      1.00      1.00        86\n",
      "           1       1.00      1.00      1.00        45\n",
      "\n",
      "    accuracy                           1.00       131\n",
      "   macro avg       1.00      1.00      1.00       131\n",
      "weighted avg       1.00      1.00      1.00       131\n",
      "\n"
     ]
    }
   ],
   "source": [
    "print(metrics.classification_report(MNB.predict(text_train), y_train))"
   ]
  },
  {
   "cell_type": "code",
   "execution_count": 92,
   "metadata": {
    "colab": {
     "base_uri": "https://localhost:8080/"
    },
    "id": "M0v87eIDPt4y",
    "outputId": "6b405057-fd9c-48cf-94d1-2c3b9deac42c"
   },
   "outputs": [
    {
     "name": "stdout",
     "output_type": "stream",
     "text": [
      "93.32%\n"
     ]
    }
   ],
   "source": [
    "accuracy_score = metrics.accuracy_score(MNB.predict(text_test), y_test)\n",
    "print(str('{:04.2f}'.format(accuracy_score*100))+'%')"
   ]
  },
  {
   "cell_type": "code",
   "execution_count": 93,
   "metadata": {
    "colab": {
     "base_uri": "https://localhost:8080/"
    },
    "id": "oRoQLV5yQQR6",
    "outputId": "33abf4d9-1ef1-40be-bdd1-90bd867d0ff2"
   },
   "outputs": [
    {
     "name": "stdout",
     "output_type": "stream",
     "text": [
      "              precision    recall  f1-score   support\n",
      "\n",
      "           0       1.00      0.94      0.97       535\n",
      "           1       0.06      0.50      0.10         4\n",
      "\n",
      "    accuracy                           0.93       539\n",
      "   macro avg       0.53      0.72      0.53       539\n",
      "weighted avg       0.99      0.93      0.96       539\n",
      "\n"
     ]
    }
   ],
   "source": [
    "print(metrics.classification_report(MNB.predict(text_test), y_test))"
   ]
  },
  {
   "cell_type": "code",
   "execution_count": 94,
   "metadata": {
    "colab": {
     "base_uri": "https://localhost:8080/"
    },
    "id": "yQojdgy3enWy",
    "outputId": "678d0486-823c-4c51-a541-74d506cd2d99"
   },
   "outputs": [
    {
     "name": "stdout",
     "output_type": "stream",
     "text": [
      "93.14%\n"
     ]
    }
   ],
   "source": [
    "#Defining and compiling the model -> we will use ComplementNB\n",
    "from sklearn.naive_bayes import ComplementNB\n",
    "\n",
    "#Fitting the model\n",
    "CNB = ComplementNB()\n",
    "CNB.fit(text_train, y_train)\n",
    "\n",
    "#evaluating the model\n",
    "#from sklearn import metrics\n",
    "accuracy_score = metrics.accuracy_score(CNB.predict(text_test), y_test)\n",
    "\n",
    "print(str('{:4.2f}'.format(accuracy_score*100))+'%')"
   ]
  },
  {
   "cell_type": "code",
   "execution_count": 95,
   "metadata": {
    "colab": {
     "base_uri": "https://localhost:8080/"
    },
    "id": "lNGmulxDQuio",
    "outputId": "cf514ace-a465-4cf8-94fb-2fc7101c75fc"
   },
   "outputs": [
    {
     "name": "stdout",
     "output_type": "stream",
     "text": [
      "              precision    recall  f1-score   support\n",
      "\n",
      "           0       0.99      0.94      0.96       534\n",
      "           1       0.06      0.40      0.10         5\n",
      "\n",
      "    accuracy                           0.93       539\n",
      "   macro avg       0.52      0.67      0.53       539\n",
      "weighted avg       0.99      0.93      0.96       539\n",
      "\n"
     ]
    }
   ],
   "source": [
    "print(metrics.classification_report(CNB.predict(text_test), y_test))"
   ]
  },
  {
   "cell_type": "code",
   "execution_count": 96,
   "metadata": {
    "colab": {
     "base_uri": "https://localhost:8080/"
    },
    "id": "mw4kzMaJexqS",
    "outputId": "b7716b5c-2e30-4b2a-fdb9-22315c1e5a0a"
   },
   "outputs": [
    {
     "name": "stderr",
     "output_type": "stream",
     "text": [
      "/usr/local/lib/python3.7/dist-packages/sklearn/utils/validation.py:598: FutureWarning: np.matrix usage is deprecated in 1.0 and will raise a TypeError in 1.2. Please convert to a numpy array with np.asarray. For more information see: https://numpy.org/doc/stable/reference/generated/numpy.matrix.html\n",
      "  FutureWarning,\n",
      "/usr/local/lib/python3.7/dist-packages/sklearn/utils/validation.py:598: FutureWarning: np.matrix usage is deprecated in 1.0 and will raise a TypeError in 1.2. Please convert to a numpy array with np.asarray. For more information see: https://numpy.org/doc/stable/reference/generated/numpy.matrix.html\n",
      "  FutureWarning,\n"
     ]
    },
    {
     "name": "stdout",
     "output_type": "stream",
     "text": [
      "accuracy_score_gnb = 7.42%\n"
     ]
    }
   ],
   "source": [
    "from sklearn.naive_bayes import GaussianNB\n",
    "GNB = GaussianNB()\n",
    "GNB.fit(text_train.todense(), y_train)\n",
    "accuracy_score_gnb = metrics.accuracy_score(GNB.predict(text_test.todense()), y_test)\n",
    "print('accuracy_score_gnb = '+str('{:4.2f}'.format(accuracy_score_gnb*100))+'%')"
   ]
  },
  {
   "cell_type": "code",
   "execution_count": 97,
   "metadata": {
    "colab": {
     "base_uri": "https://localhost:8080/"
    },
    "id": "BaWuKiVmRE4B",
    "outputId": "5ae24ffe-3275-4324-8141-0977bf792a36"
   },
   "outputs": [
    {
     "name": "stderr",
     "output_type": "stream",
     "text": [
      "/usr/local/lib/python3.7/dist-packages/sklearn/utils/validation.py:598: FutureWarning: np.matrix usage is deprecated in 1.0 and will raise a TypeError in 1.2. Please convert to a numpy array with np.asarray. For more information see: https://numpy.org/doc/stable/reference/generated/numpy.matrix.html\n",
      "  FutureWarning,\n"
     ]
    },
    {
     "name": "stdout",
     "output_type": "stream",
     "text": [
      "              precision    recall  f1-score   support\n",
      "\n",
      "           0       0.01      0.83      0.02         6\n",
      "           1       0.97      0.07      0.12       533\n",
      "\n",
      "    accuracy                           0.07       539\n",
      "   macro avg       0.49      0.45      0.07       539\n",
      "weighted avg       0.96      0.07      0.12       539\n",
      "\n"
     ]
    }
   ],
   "source": [
    "print(metrics.classification_report(GNB.predict(text_test.todense()), y_test))"
   ]
  },
  {
   "cell_type": "code",
   "execution_count": 86,
   "metadata": {
    "colab": {
     "base_uri": "https://localhost:8080/"
    },
    "id": "VQnyU38ce3lW",
    "outputId": "e032e679-8c99-47ec-ece2-ae3caa26c980"
   },
   "outputs": [
    {
     "name": "stdout",
     "output_type": "stream",
     "text": [
      "BNB accuracy = 93.32%\n"
     ]
    }
   ],
   "source": [
    "#Bernoulli Naive Bayes\n",
    "from sklearn.naive_bayes import BernoulliNB\n",
    "BNB = BernoulliNB()\n",
    "BNB.fit(text_train, y_train)\n",
    "accuracy_score_bnb = metrics.accuracy_score(BNB.predict(text_test), y_test)\n",
    "print('BNB accuracy = ' + str('{:4.2f}'.format(accuracy_score_bnb*100))+'%')"
   ]
  },
  {
   "cell_type": "code",
   "execution_count": 87,
   "metadata": {
    "colab": {
     "base_uri": "https://localhost:8080/"
    },
    "id": "wrgeYymbRWfL",
    "outputId": "e4a06427-05e4-41da-ffb3-827f6b4c1b2a"
   },
   "outputs": [
    {
     "name": "stdout",
     "output_type": "stream",
     "text": [
      "              precision    recall  f1-score   support\n",
      "\n",
      "           0       1.00      0.93      0.97       539\n",
      "           1       0.00      0.00      0.00         0\n",
      "\n",
      "    accuracy                           0.93       539\n",
      "   macro avg       0.50      0.47      0.48       539\n",
      "weighted avg       1.00      0.93      0.97       539\n",
      "\n"
     ]
    },
    {
     "name": "stderr",
     "output_type": "stream",
     "text": [
      "/usr/local/lib/python3.7/dist-packages/sklearn/metrics/_classification.py:1318: UndefinedMetricWarning: Recall and F-score are ill-defined and being set to 0.0 in labels with no true samples. Use `zero_division` parameter to control this behavior.\n",
      "  _warn_prf(average, modifier, msg_start, len(result))\n",
      "/usr/local/lib/python3.7/dist-packages/sklearn/metrics/_classification.py:1318: UndefinedMetricWarning: Recall and F-score are ill-defined and being set to 0.0 in labels with no true samples. Use `zero_division` parameter to control this behavior.\n",
      "  _warn_prf(average, modifier, msg_start, len(result))\n",
      "/usr/local/lib/python3.7/dist-packages/sklearn/metrics/_classification.py:1318: UndefinedMetricWarning: Recall and F-score are ill-defined and being set to 0.0 in labels with no true samples. Use `zero_division` parameter to control this behavior.\n",
      "  _warn_prf(average, modifier, msg_start, len(result))\n"
     ]
    }
   ],
   "source": [
    "print(metrics.classification_report(BNB.predict(text_test), y_test))"
   ]
  },
  {
   "cell_type": "code",
   "execution_count": 112,
   "metadata": {
    "colab": {
     "base_uri": "https://localhost:8080/"
    },
    "id": "MxzXWgkce8uC",
    "outputId": "5d7b675a-552d-43d5-808f-2944ec11919b"
   },
   "outputs": [
    {
     "name": "stdout",
     "output_type": "stream",
     "text": [
      "accuracy_score_mnb = 82.93%\n",
      "accuracy_score_bnb = 78.85%\n",
      "accuracy_score_cnb = 64.19%\n",
      "accuracy_score_gnb = 47.87%\n"
     ]
    },
    {
     "name": "stderr",
     "output_type": "stream",
     "text": [
      "/usr/local/lib/python3.7/dist-packages/sklearn/utils/validation.py:598: FutureWarning: np.matrix usage is deprecated in 1.0 and will raise a TypeError in 1.2. Please convert to a numpy array with np.asarray. For more information see: https://numpy.org/doc/stable/reference/generated/numpy.matrix.html\n",
      "  FutureWarning,\n",
      "/usr/local/lib/python3.7/dist-packages/sklearn/utils/validation.py:598: FutureWarning: np.matrix usage is deprecated in 1.0 and will raise a TypeError in 1.2. Please convert to a numpy array with np.asarray. For more information see: https://numpy.org/doc/stable/reference/generated/numpy.matrix.html\n",
      "  FutureWarning,\n"
     ]
    }
   ],
   "source": [
    "#TFIDF Vectorisation to improve accuracy\n",
    "from sklearn.feature_extraction.text import TfidfVectorizer\n",
    "tfidf = TfidfVectorizer()\n",
    "tfidf.fit(X_train)\n",
    "train_text_2 = tfidf.transform(X_train)\n",
    "test_text_2 = tfidf.transform(X_test)\n",
    "\n",
    "#defining the model\n",
    "#compilimg the model -> we are going to use already used models GNB, MNB, CNB, BNB\n",
    "#fitting the model\n",
    "MNB.fit(train_text_2, y_train)\n",
    "accuracy_score_mnb = metrics.accuracy_score(MNB.predict(test_text_2), y_test)\n",
    "print('accuracy_score_mnb = '+str('{:4.2f}'.format(accuracy_score_mnb*100))+'%')\n",
    "\n",
    "BNB.fit(train_text_2, y_train)\n",
    "accuracy_score_bnb = metrics.accuracy_score(BNB.predict(test_text_2), y_test)\n",
    "print('accuracy_score_bnb = '+str('{:4.2f}'.format(accuracy_score_bnb*100))+'%')\n",
    "\n",
    "CNB.fit(train_text_2, y_train)\n",
    "accuracy_score_cnb = metrics.accuracy_score(CNB.predict(test_text_2), y_test)\n",
    "print('accuracy_score_cnb = '+str('{:4.2f}'.format(accuracy_score_cnb*100))+'%')\n",
    "\n",
    "GNB.fit(train_text_2.todense(), y_train)\n",
    "accuracy_score_gnb = metrics.accuracy_score(GNB.predict(test_text_2.todense()), y_test)\n",
    "print('accuracy_score_gnb = '+str('{:4.2f}'.format(accuracy_score_gnb*100))+'%')"
   ]
  },
  {
   "cell_type": "code",
   "execution_count": 113,
   "metadata": {
    "colab": {
     "base_uri": "https://localhost:8080/"
    },
    "id": "ohXHS_gaS21T",
    "outputId": "bafab0cc-8e2b-43d8-cf50-77a69984f007"
   },
   "outputs": [
    {
     "name": "stdout",
     "output_type": "stream",
     "text": [
      "              precision    recall  f1-score   support\n",
      "\n",
      "           0       0.86      0.95      0.90       453\n",
      "           1       0.42      0.17      0.25        86\n",
      "\n",
      "    accuracy                           0.83       539\n",
      "   macro avg       0.64      0.56      0.57       539\n",
      "weighted avg       0.79      0.83      0.80       539\n",
      "\n"
     ]
    }
   ],
   "source": [
    "print(metrics.classification_report(MNB.predict(test_text_2), y_test))"
   ]
  },
  {
   "cell_type": "code",
   "execution_count": 115,
   "metadata": {
    "colab": {
     "base_uri": "https://localhost:8080/"
    },
    "id": "_zoBVQGjT8jD",
    "outputId": "16743e4c-8b6f-43d8-dd74-d25c0dc5587d"
   },
   "outputs": [
    {
     "data": {
      "text/plain": [
       "0.9007633587786259"
      ]
     },
     "execution_count": 115,
     "metadata": {},
     "output_type": "execute_result"
    }
   ],
   "source": [
    "MNB.score(train_text_2, y_train)"
   ]
  },
  {
   "cell_type": "markdown",
   "metadata": {
    "id": "9jDY3RQqUpD6"
   },
   "source": [
    "The Best results were given by Multinomial NB with default parameters and TF-IDF Vectorization.\n",
    "- Training Accuracy = 90.07%\n",
    "- Testing Accuracy = 82.93%\n",
    "- Precision, Recall, F1-score for each class is given in the last classification report."
   ]
  }
 ],
 "metadata": {
  "colab": {
   "name": "Snowballing_classification_ML.ipynb",
   "provenance": []
  },
  "kernelspec": {
   "display_name": "Python 3 (ipykernel)",
   "language": "python",
   "name": "python3"
  },
  "language_info": {
   "codemirror_mode": {
    "name": "ipython",
    "version": 3
   },
   "file_extension": ".py",
   "mimetype": "text/x-python",
   "name": "python",
   "nbconvert_exporter": "python",
   "pygments_lexer": "ipython3",
   "version": "3.8.10"
  }
 },
 "nbformat": 4,
 "nbformat_minor": 1
}
