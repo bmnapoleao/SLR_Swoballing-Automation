{
  "cells": [
    {
      "attachments": {},
      "cell_type": "markdown",
      "metadata": {},
      "source": [
        "This notebook aims to use Machine Learning methods in the Update process of System Literature Reviews.\n",
        "We take input from the Training dataset, while the results of 1 round of Forward Snowballing serve as the Testing dataset.\n",
        "We use text preprocessing and natural language processing to process the datasets. \n",
        "Four ML algorithms have been experimented with for text classification:\n",
        "- Stochastic gradient descent\n",
        "- XG Boost\n",
        "- Logistic Regression\n",
        "- Multinomial Naive Bayes"
      ]
    },
    {
      "attachments": {},
      "cell_type": "markdown",
      "metadata": {},
      "source": [
        "Importing libraries for NLP, Machine learning, and Vizzes"
      ]
    },
    {
      "cell_type": "code",
      "execution_count": 1,
      "metadata": {
        "id": "9hLj6mTc0CPm"
      },
      "outputs": [],
      "source": [
        "import pandas as pd\n",
        "\n",
        "import torch\n",
        "import numpy as np\n",
        "import seaborn as sns\n",
        "import matplotlib.pyplot as plt\n",
        "\n",
        "from sklearn.model_selection import train_test_split\n",
        "from sklearn.metrics import confusion_matrix, classification_report\n",
        "from collections import defaultdict"
      ]
    },
    {
      "cell_type": "code",
      "execution_count": 2,
      "metadata": {
        "colab": {
          "base_uri": "https://localhost:8080/"
        },
        "id": "H7Mj8MFZclAC",
        "outputId": "bf00cb8a-6932-4fc1-9464-7598e5a4f6f3"
      },
      "outputs": [
        {
          "name": "stderr",
          "output_type": "stream",
          "text": [
            "/usr/local/lib/python3.8/dist-packages/torch/cuda/__init__.py:497: UserWarning: Can't initialize NVML\n",
            "  warnings.warn(\"Can't initialize NVML\")\n"
          ]
        }
      ],
      "source": [
        "import nltk\n",
        "from nltk.corpus import stopwords\n",
        "import string\n",
        "from tensorflow.keras.preprocessing.text import Tokenizer\n",
        "from tensorflow.keras.preprocessing.sequence import pad_sequences\n",
        "# from wordcloud import WordCloud, STOPWORDS\n",
        "import spacy"
      ]
    },
    {
      "cell_type": "code",
      "execution_count": 3,
      "metadata": {
        "colab": {
          "base_uri": "https://localhost:8080/"
        },
        "id": "269aoTrP0dPS",
        "outputId": "0b5263d9-4ffa-4ea3-9326-e491064b16ba"
      },
      "outputs": [
        {
          "name": "stdout",
          "output_type": "stream",
          "text": [
            "Mounted at /content/drive\n"
          ]
        }
      ],
      "source": [
        "from google.colab import drive\n",
        "drive.mount('/content/drive')"
      ]
    },
    {
      "attachments": {},
      "cell_type": "markdown",
      "metadata": {},
      "source": [
        "Reading the Training and Testing data "
      ]
    },
    {
      "cell_type": "code",
      "execution_count": 4,
      "metadata": {
        "id": "DR1pHKyu0rV-"
      },
      "outputs": [],
      "source": [
        "df_train = pd.read_csv('/content/drive/MyDrive/Mitacs study material/SLR Update Experiment/Data/Training.csv')\n",
        "df_test = pd.read_csv('/content/drive/MyDrive/Mitacs study material/SLR Update Experiment/Data/Testing-test.csv')"
      ]
    },
    {
      "attachments": {},
      "cell_type": "markdown",
      "metadata": {},
      "source": [
        "Reading the actual included studies to be validated"
      ]
    },
    {
      "cell_type": "code",
      "execution_count": 5,
      "metadata": {
        "id": "SK5v9-XW6jtK"
      },
      "outputs": [],
      "source": [
        "df_ones = pd.read_csv('/content/drive/MyDrive/Mitacs study material/SLR Update Experiment/Data/Testing.csv')"
      ]
    },
    {
      "cell_type": "code",
      "execution_count": 6,
      "metadata": {
        "colab": {
          "base_uri": "https://localhost:8080/",
          "height": 206
        },
        "id": "3B9a2jm724DL",
        "outputId": "54b5b56c-ddb5-4588-8076-0d8d36d44cf7"
      },
      "outputs": [
        {
          "data": {
            "text/html": [
              "\n",
              "  <div id=\"df-1cc5ab5a-bd16-4d7e-8833-14a2f423140d\">\n",
              "    <div class=\"colab-df-container\">\n",
              "      <div>\n",
              "<style scoped>\n",
              "    .dataframe tbody tr th:only-of-type {\n",
              "        vertical-align: middle;\n",
              "    }\n",
              "\n",
              "    .dataframe tbody tr th {\n",
              "        vertical-align: top;\n",
              "    }\n",
              "\n",
              "    .dataframe thead th {\n",
              "        text-align: right;\n",
              "    }\n",
              "</style>\n",
              "<table border=\"1\" class=\"dataframe\">\n",
              "  <thead>\n",
              "    <tr style=\"text-align: right;\">\n",
              "      <th></th>\n",
              "      <th>Title</th>\n",
              "      <th>Abstract</th>\n",
              "      <th>Relevance</th>\n",
              "    </tr>\n",
              "  </thead>\n",
              "  <tbody>\n",
              "    <tr>\n",
              "      <th>0</th>\n",
              "      <td>Structuring automotive product lines and featu...</td>\n",
              "      <td>Automotive systems are highly complex and cust...</td>\n",
              "      <td>0</td>\n",
              "    </tr>\n",
              "    <tr>\n",
              "      <th>1</th>\n",
              "      <td>Using Scrum in Outsourced Government Projects:...</td>\n",
              "      <td>The growth in popularity of Agile methods plus...</td>\n",
              "      <td>0</td>\n",
              "    </tr>\n",
              "    <tr>\n",
              "      <th>2</th>\n",
              "      <td>Interventions for Software Security: Creating ...</td>\n",
              "      <td>Though some software development teams are hig...</td>\n",
              "      <td>0</td>\n",
              "    </tr>\n",
              "    <tr>\n",
              "      <th>3</th>\n",
              "      <td>Sustainability analysis and ease of learning i...</td>\n",
              "      <td>Context: Artifact-based requirements engineeri...</td>\n",
              "      <td>0</td>\n",
              "    </tr>\n",
              "    <tr>\n",
              "      <th>4</th>\n",
              "      <td>Light-Touch Interventions to Improve Software ...</td>\n",
              "      <td>Many software developers still have little int...</td>\n",
              "      <td>0</td>\n",
              "    </tr>\n",
              "  </tbody>\n",
              "</table>\n",
              "</div>\n",
              "      <button class=\"colab-df-convert\" onclick=\"convertToInteractive('df-1cc5ab5a-bd16-4d7e-8833-14a2f423140d')\"\n",
              "              title=\"Convert this dataframe to an interactive table.\"\n",
              "              style=\"display:none;\">\n",
              "        \n",
              "  <svg xmlns=\"http://www.w3.org/2000/svg\" height=\"24px\"viewBox=\"0 0 24 24\"\n",
              "       width=\"24px\">\n",
              "    <path d=\"M0 0h24v24H0V0z\" fill=\"none\"/>\n",
              "    <path d=\"M18.56 5.44l.94 2.06.94-2.06 2.06-.94-2.06-.94-.94-2.06-.94 2.06-2.06.94zm-11 1L8.5 8.5l.94-2.06 2.06-.94-2.06-.94L8.5 2.5l-.94 2.06-2.06.94zm10 10l.94 2.06.94-2.06 2.06-.94-2.06-.94-.94-2.06-.94 2.06-2.06.94z\"/><path d=\"M17.41 7.96l-1.37-1.37c-.4-.4-.92-.59-1.43-.59-.52 0-1.04.2-1.43.59L10.3 9.45l-7.72 7.72c-.78.78-.78 2.05 0 2.83L4 21.41c.39.39.9.59 1.41.59.51 0 1.02-.2 1.41-.59l7.78-7.78 2.81-2.81c.8-.78.8-2.07 0-2.86zM5.41 20L4 18.59l7.72-7.72 1.47 1.35L5.41 20z\"/>\n",
              "  </svg>\n",
              "      </button>\n",
              "      \n",
              "  <style>\n",
              "    .colab-df-container {\n",
              "      display:flex;\n",
              "      flex-wrap:wrap;\n",
              "      gap: 12px;\n",
              "    }\n",
              "\n",
              "    .colab-df-convert {\n",
              "      background-color: #E8F0FE;\n",
              "      border: none;\n",
              "      border-radius: 50%;\n",
              "      cursor: pointer;\n",
              "      display: none;\n",
              "      fill: #1967D2;\n",
              "      height: 32px;\n",
              "      padding: 0 0 0 0;\n",
              "      width: 32px;\n",
              "    }\n",
              "\n",
              "    .colab-df-convert:hover {\n",
              "      background-color: #E2EBFA;\n",
              "      box-shadow: 0px 1px 2px rgba(60, 64, 67, 0.3), 0px 1px 3px 1px rgba(60, 64, 67, 0.15);\n",
              "      fill: #174EA6;\n",
              "    }\n",
              "\n",
              "    [theme=dark] .colab-df-convert {\n",
              "      background-color: #3B4455;\n",
              "      fill: #D2E3FC;\n",
              "    }\n",
              "\n",
              "    [theme=dark] .colab-df-convert:hover {\n",
              "      background-color: #434B5C;\n",
              "      box-shadow: 0px 1px 3px 1px rgba(0, 0, 0, 0.15);\n",
              "      filter: drop-shadow(0px 1px 2px rgba(0, 0, 0, 0.3));\n",
              "      fill: #FFFFFF;\n",
              "    }\n",
              "  </style>\n",
              "\n",
              "      <script>\n",
              "        const buttonEl =\n",
              "          document.querySelector('#df-1cc5ab5a-bd16-4d7e-8833-14a2f423140d button.colab-df-convert');\n",
              "        buttonEl.style.display =\n",
              "          google.colab.kernel.accessAllowed ? 'block' : 'none';\n",
              "\n",
              "        async function convertToInteractive(key) {\n",
              "          const element = document.querySelector('#df-1cc5ab5a-bd16-4d7e-8833-14a2f423140d');\n",
              "          const dataTable =\n",
              "            await google.colab.kernel.invokeFunction('convertToInteractive',\n",
              "                                                     [key], {});\n",
              "          if (!dataTable) return;\n",
              "\n",
              "          const docLinkHtml = 'Like what you see? Visit the ' +\n",
              "            '<a target=\"_blank\" href=https://colab.research.google.com/notebooks/data_table.ipynb>data table notebook</a>'\n",
              "            + ' to learn more about interactive tables.';\n",
              "          element.innerHTML = '';\n",
              "          dataTable['output_type'] = 'display_data';\n",
              "          await google.colab.output.renderOutput(dataTable, element);\n",
              "          const docLink = document.createElement('div');\n",
              "          docLink.innerHTML = docLinkHtml;\n",
              "          element.appendChild(docLink);\n",
              "        }\n",
              "      </script>\n",
              "    </div>\n",
              "  </div>\n",
              "  "
            ],
            "text/plain": [
              "                                               Title  \\\n",
              "0  Structuring automotive product lines and featu...   \n",
              "1  Using Scrum in Outsourced Government Projects:...   \n",
              "2  Interventions for Software Security: Creating ...   \n",
              "3  Sustainability analysis and ease of learning i...   \n",
              "4  Light-Touch Interventions to Improve Software ...   \n",
              "\n",
              "                                            Abstract  Relevance  \n",
              "0  Automotive systems are highly complex and cust...          0  \n",
              "1  The growth in popularity of Agile methods plus...          0  \n",
              "2  Though some software development teams are hig...          0  \n",
              "3  Context: Artifact-based requirements engineeri...          0  \n",
              "4  Many software developers still have little int...          0  "
            ]
          },
          "execution_count": 6,
          "metadata": {},
          "output_type": "execute_result"
        }
      ],
      "source": [
        "df_train.head()"
      ]
    },
    {
      "cell_type": "code",
      "execution_count": 7,
      "metadata": {
        "colab": {
          "base_uri": "https://localhost:8080/",
          "height": 206
        },
        "id": "shLUQKzJ26d1",
        "outputId": "2eaf3acd-9e48-4994-e400-78dab82ddd80"
      },
      "outputs": [
        {
          "data": {
            "text/html": [
              "\n",
              "  <div id=\"df-1fd1ab39-2a3c-454a-8935-734d2d5997cf\">\n",
              "    <div class=\"colab-df-container\">\n",
              "      <div>\n",
              "<style scoped>\n",
              "    .dataframe tbody tr th:only-of-type {\n",
              "        vertical-align: middle;\n",
              "    }\n",
              "\n",
              "    .dataframe tbody tr th {\n",
              "        vertical-align: top;\n",
              "    }\n",
              "\n",
              "    .dataframe thead th {\n",
              "        text-align: right;\n",
              "    }\n",
              "</style>\n",
              "<table border=\"1\" class=\"dataframe\">\n",
              "  <thead>\n",
              "    <tr style=\"text-align: right;\">\n",
              "      <th></th>\n",
              "      <th>Title</th>\n",
              "      <th>Abstract</th>\n",
              "      <th>Relevance</th>\n",
              "    </tr>\n",
              "  </thead>\n",
              "  <tbody>\n",
              "    <tr>\n",
              "      <th>0</th>\n",
              "      <td>Using Scrum in Outsourced Government Projects:...</td>\n",
              "      <td>The growth in popularity of Agile methods plus...</td>\n",
              "      <td>0</td>\n",
              "    </tr>\n",
              "    <tr>\n",
              "      <th>1</th>\n",
              "      <td>Academic and Industrial Software Testing Confe...</td>\n",
              "      <td>Just as with any other profession, an efficien...</td>\n",
              "      <td>0</td>\n",
              "    </tr>\n",
              "    <tr>\n",
              "      <th>2</th>\n",
              "      <td>Light-Touch Interventions to Improve Software ...</td>\n",
              "      <td>Many software developers still have little int...</td>\n",
              "      <td>0</td>\n",
              "    </tr>\n",
              "    <tr>\n",
              "      <th>3</th>\n",
              "      <td>Interventions for Software Security: Creating ...</td>\n",
              "      <td>Though some software development teams are hig...</td>\n",
              "      <td>0</td>\n",
              "    </tr>\n",
              "    <tr>\n",
              "      <th>4</th>\n",
              "      <td>Measuring and Improving Agile Processes in a S...</td>\n",
              "      <td>Context: Agile software development has become...</td>\n",
              "      <td>0</td>\n",
              "    </tr>\n",
              "  </tbody>\n",
              "</table>\n",
              "</div>\n",
              "      <button class=\"colab-df-convert\" onclick=\"convertToInteractive('df-1fd1ab39-2a3c-454a-8935-734d2d5997cf')\"\n",
              "              title=\"Convert this dataframe to an interactive table.\"\n",
              "              style=\"display:none;\">\n",
              "        \n",
              "  <svg xmlns=\"http://www.w3.org/2000/svg\" height=\"24px\"viewBox=\"0 0 24 24\"\n",
              "       width=\"24px\">\n",
              "    <path d=\"M0 0h24v24H0V0z\" fill=\"none\"/>\n",
              "    <path d=\"M18.56 5.44l.94 2.06.94-2.06 2.06-.94-2.06-.94-.94-2.06-.94 2.06-2.06.94zm-11 1L8.5 8.5l.94-2.06 2.06-.94-2.06-.94L8.5 2.5l-.94 2.06-2.06.94zm10 10l.94 2.06.94-2.06 2.06-.94-2.06-.94-.94-2.06-.94 2.06-2.06.94z\"/><path d=\"M17.41 7.96l-1.37-1.37c-.4-.4-.92-.59-1.43-.59-.52 0-1.04.2-1.43.59L10.3 9.45l-7.72 7.72c-.78.78-.78 2.05 0 2.83L4 21.41c.39.39.9.59 1.41.59.51 0 1.02-.2 1.41-.59l7.78-7.78 2.81-2.81c.8-.78.8-2.07 0-2.86zM5.41 20L4 18.59l7.72-7.72 1.47 1.35L5.41 20z\"/>\n",
              "  </svg>\n",
              "      </button>\n",
              "      \n",
              "  <style>\n",
              "    .colab-df-container {\n",
              "      display:flex;\n",
              "      flex-wrap:wrap;\n",
              "      gap: 12px;\n",
              "    }\n",
              "\n",
              "    .colab-df-convert {\n",
              "      background-color: #E8F0FE;\n",
              "      border: none;\n",
              "      border-radius: 50%;\n",
              "      cursor: pointer;\n",
              "      display: none;\n",
              "      fill: #1967D2;\n",
              "      height: 32px;\n",
              "      padding: 0 0 0 0;\n",
              "      width: 32px;\n",
              "    }\n",
              "\n",
              "    .colab-df-convert:hover {\n",
              "      background-color: #E2EBFA;\n",
              "      box-shadow: 0px 1px 2px rgba(60, 64, 67, 0.3), 0px 1px 3px 1px rgba(60, 64, 67, 0.15);\n",
              "      fill: #174EA6;\n",
              "    }\n",
              "\n",
              "    [theme=dark] .colab-df-convert {\n",
              "      background-color: #3B4455;\n",
              "      fill: #D2E3FC;\n",
              "    }\n",
              "\n",
              "    [theme=dark] .colab-df-convert:hover {\n",
              "      background-color: #434B5C;\n",
              "      box-shadow: 0px 1px 3px 1px rgba(0, 0, 0, 0.15);\n",
              "      filter: drop-shadow(0px 1px 2px rgba(0, 0, 0, 0.3));\n",
              "      fill: #FFFFFF;\n",
              "    }\n",
              "  </style>\n",
              "\n",
              "      <script>\n",
              "        const buttonEl =\n",
              "          document.querySelector('#df-1fd1ab39-2a3c-454a-8935-734d2d5997cf button.colab-df-convert');\n",
              "        buttonEl.style.display =\n",
              "          google.colab.kernel.accessAllowed ? 'block' : 'none';\n",
              "\n",
              "        async function convertToInteractive(key) {\n",
              "          const element = document.querySelector('#df-1fd1ab39-2a3c-454a-8935-734d2d5997cf');\n",
              "          const dataTable =\n",
              "            await google.colab.kernel.invokeFunction('convertToInteractive',\n",
              "                                                     [key], {});\n",
              "          if (!dataTable) return;\n",
              "\n",
              "          const docLinkHtml = 'Like what you see? Visit the ' +\n",
              "            '<a target=\"_blank\" href=https://colab.research.google.com/notebooks/data_table.ipynb>data table notebook</a>'\n",
              "            + ' to learn more about interactive tables.';\n",
              "          element.innerHTML = '';\n",
              "          dataTable['output_type'] = 'display_data';\n",
              "          await google.colab.output.renderOutput(dataTable, element);\n",
              "          const docLink = document.createElement('div');\n",
              "          docLink.innerHTML = docLinkHtml;\n",
              "          element.appendChild(docLink);\n",
              "        }\n",
              "      </script>\n",
              "    </div>\n",
              "  </div>\n",
              "  "
            ],
            "text/plain": [
              "                                               Title  \\\n",
              "0  Using Scrum in Outsourced Government Projects:...   \n",
              "1  Academic and Industrial Software Testing Confe...   \n",
              "2  Light-Touch Interventions to Improve Software ...   \n",
              "3  Interventions for Software Security: Creating ...   \n",
              "4  Measuring and Improving Agile Processes in a S...   \n",
              "\n",
              "                                            Abstract  Relevance  \n",
              "0  The growth in popularity of Agile methods plus...          0  \n",
              "1  Just as with any other profession, an efficien...          0  \n",
              "2  Many software developers still have little int...          0  \n",
              "3  Though some software development teams are hig...          0  \n",
              "4  Context: Agile software development has become...          0  "
            ]
          },
          "execution_count": 7,
          "metadata": {},
          "output_type": "execute_result"
        }
      ],
      "source": [
        "df_test.head()"
      ]
    },
    {
      "cell_type": "code",
      "execution_count": 9,
      "metadata": {
        "id": "k7CHTavp7_l8"
      },
      "outputs": [],
      "source": [
        "# df_ones.head()"
      ]
    },
    {
      "attachments": {},
      "cell_type": "markdown",
      "metadata": {},
      "source": [
        "Remove any duplicate entries from forward snowballing"
      ]
    },
    {
      "cell_type": "code",
      "execution_count": 10,
      "metadata": {
        "id": "R_9F0NIr57fp"
      },
      "outputs": [],
      "source": [
        "df_train.drop_duplicates(inplace=True)"
      ]
    },
    {
      "attachments": {},
      "cell_type": "markdown",
      "metadata": {},
      "source": [
        "Visualizing class distribution"
      ]
    },
    {
      "cell_type": "code",
      "execution_count": 11,
      "metadata": {
        "colab": {
          "base_uri": "https://localhost:8080/",
          "height": 293
        },
        "id": "26NLYX562-Tt",
        "outputId": "cc3b3998-7933-4545-b1b3-e7cb7e828f91"
      },
      "outputs": [
        {
          "data": {
            "text/plain": [
              "<AxesSubplot:xlabel='Relevance'>"
            ]
          },
          "execution_count": 11,
          "metadata": {},
          "output_type": "execute_result"
        },
        {
          "data": {
            "image/png": "[encoded data removed]",
            "text/plain": [
              "<Figure size 432x288 with 1 Axes>"
            ]
          },
          "metadata": {
            "needs_background": "light"
          },
          "output_type": "display_data"
        }
      ],
      "source": [
        "df_train[\"Relevance\"].reset_index().groupby(\"Relevance\").count().sort_values(by=\"index\").plot(kind=\"bar\") # training set is moderately unbalanced"
      ]
    },
    {
      "cell_type": "code",
      "execution_count": 12,
      "metadata": {
        "id": "VEVxUFqwpEDE"
      },
      "outputs": [],
      "source": [
        "df_train = df_train.sample(frac=1).reset_index(drop=True)"
      ]
    },
    {
      "cell_type": "code",
      "execution_count": null,
      "metadata": {
        "id": "P7iNqgzEiG6J"
      },
      "outputs": [],
      "source": [
        "# df_test = df_test.sample(frac=1).reset_index(drop=True)"
      ]
    },
    {
      "attachments": {},
      "cell_type": "markdown",
      "metadata": {},
      "source": [
        "Removing duplicates for the test set"
      ]
    },
    {
      "cell_type": "code",
      "execution_count": 13,
      "metadata": {
        "id": "ieqQj8Ql6IWq"
      },
      "outputs": [],
      "source": [
        "df_test.drop_duplicates(inplace=True)"
      ]
    },
    {
      "attachments": {},
      "cell_type": "markdown",
      "metadata": {},
      "source": [
        "Test set data distribution"
      ]
    },
    {
      "cell_type": "code",
      "execution_count": 70,
      "metadata": {
        "colab": {
          "base_uri": "https://localhost:8080/",
          "height": 293
        },
        "id": "eG8HqNFIoxpj",
        "outputId": "6bfce5a6-24ea-4c95-c51d-0e28d357a201"
      },
      "outputs": [
        {
          "data": {
            "text/plain": [
              "<AxesSubplot:xlabel='Relevance'>"
            ]
          },
          "execution_count": 70,
          "metadata": {},
          "output_type": "execute_result"
        },
        {
          "data": {
            "image/png": "[encoded data removed]",
            "text/plain": [
              "<Figure size 432x288 with 1 Axes>"
            ]
          },
          "metadata": {
            "needs_background": "light"
          },
          "output_type": "display_data"
        }
      ],
      "source": [
        "df_test[\"Relevance\"].reset_index().groupby(\"Relevance\").count().sort_values(by=\"index\").plot(kind=\"bar\") # test set is highly unbalanced"
      ]
    },
    {
      "cell_type": "code",
      "execution_count": 14,
      "metadata": {
        "colab": {
          "base_uri": "https://localhost:8080/"
        },
        "id": "KsWKt6dYsSfp",
        "outputId": "48730511-c469-471e-e7cb-95e29ea3847f"
      },
      "outputs": [
        {
          "data": {
            "text/plain": [
              "Title        object\n",
              "Abstract     object\n",
              "Relevance     int64\n",
              "dtype: object"
            ]
          },
          "execution_count": 14,
          "metadata": {},
          "output_type": "execute_result"
        }
      ],
      "source": [
        "df_train.dtypes "
      ]
    },
    {
      "cell_type": "code",
      "execution_count": 15,
      "metadata": {
        "colab": {
          "base_uri": "https://localhost:8080/"
        },
        "id": "z3Jigxo5Rmhk",
        "outputId": "cba075e3-5173-4a78-dc48-0edb89c39b80"
      },
      "outputs": [
        {
          "data": {
            "text/plain": [
              "Title        object\n",
              "Abstract     object\n",
              "Relevance     int64\n",
              "dtype: object"
            ]
          },
          "execution_count": 15,
          "metadata": {},
          "output_type": "execute_result"
        }
      ],
      "source": [
        "df_test.dtypes"
      ]
    },
    {
      "attachments": {},
      "cell_type": "markdown",
      "metadata": {},
      "source": [
        "Checking NaN values"
      ]
    },
    {
      "cell_type": "code",
      "execution_count": 16,
      "metadata": {
        "colab": {
          "base_uri": "https://localhost:8080/"
        },
        "id": "TD8_5Os1Rs23",
        "outputId": "090708cf-f843-4f83-92e2-e3541c8f5834"
      },
      "outputs": [
        {
          "data": {
            "text/plain": [
              "Title        0\n",
              "Abstract     0\n",
              "Relevance    0\n",
              "dtype: int64"
            ]
          },
          "execution_count": 16,
          "metadata": {},
          "output_type": "execute_result"
        }
      ],
      "source": [
        "df_train.isnull().sum() # nan values"
      ]
    },
    {
      "cell_type": "code",
      "execution_count": 17,
      "metadata": {
        "colab": {
          "base_uri": "https://localhost:8080/"
        },
        "id": "ASbzBv-TRwjP",
        "outputId": "f6c952d7-86ef-4ed5-a54c-1fb08e63aab5"
      },
      "outputs": [
        {
          "data": {
            "text/plain": [
              "Title          1\n",
              "Abstract     207\n",
              "Relevance      0\n",
              "dtype: int64"
            ]
          },
          "execution_count": 17,
          "metadata": {},
          "output_type": "execute_result"
        }
      ],
      "source": [
        "df_test.isnull().sum() # nan values"
      ]
    },
    {
      "cell_type": "code",
      "execution_count": 20,
      "metadata": {
        "id": "xKk_U-Lg6p06"
      },
      "outputs": [],
      "source": [
        "# df_ones.isnull().sum()"
      ]
    },
    {
      "cell_type": "code",
      "execution_count": 19,
      "metadata": {
        "colab": {
          "base_uri": "https://localhost:8080/",
          "height": 206
        },
        "id": "8nlRiI6dFdhw",
        "outputId": "3f234b9a-863b-45de-c1f1-2225594c596d"
      },
      "outputs": [
        {
          "data": {
            "text/html": [
              "\n",
              "  <div id=\"df-f0d2614c-28af-431b-8997-3d52f089a82e\">\n",
              "    <div class=\"colab-df-container\">\n",
              "      <div>\n",
              "<style scoped>\n",
              "    .dataframe tbody tr th:only-of-type {\n",
              "        vertical-align: middle;\n",
              "    }\n",
              "\n",
              "    .dataframe tbody tr th {\n",
              "        vertical-align: top;\n",
              "    }\n",
              "\n",
              "    .dataframe thead th {\n",
              "        text-align: right;\n",
              "    }\n",
              "</style>\n",
              "<table border=\"1\" class=\"dataframe\">\n",
              "  <thead>\n",
              "    <tr style=\"text-align: right;\">\n",
              "      <th></th>\n",
              "      <th>Title</th>\n",
              "      <th>Abstract</th>\n",
              "      <th>Relevance</th>\n",
              "    </tr>\n",
              "  </thead>\n",
              "  <tbody>\n",
              "    <tr>\n",
              "      <th>511</th>\n",
              "      <td>Practical Experiences in Designing and Conduct...</td>\n",
              "      <td>More and more, software engineering researcher...</td>\n",
              "      <td>1</td>\n",
              "    </tr>\n",
              "    <tr>\n",
              "      <th>512</th>\n",
              "      <td>A structured approach to academic technology t...</td>\n",
              "      <td>In this article, we describe imec?s 101 Progra...</td>\n",
              "      <td>0</td>\n",
              "    </tr>\n",
              "    <tr>\n",
              "      <th>513</th>\n",
              "      <td>Collaborative research project networks: Knowl...</td>\n",
              "      <td>Many businesses seeking enhanced innovation ha...</td>\n",
              "      <td>0</td>\n",
              "    </tr>\n",
              "    <tr>\n",
              "      <th>514</th>\n",
              "      <td>Enablers and Impediments for Collaborative Res...</td>\n",
              "      <td>When it comes to industrial organizations, cur...</td>\n",
              "      <td>1</td>\n",
              "    </tr>\n",
              "    <tr>\n",
              "      <th>515</th>\n",
              "      <td>Models, processes, and roles of universities i...</td>\n",
              "      <td>Universities play pivotal roles when research ...</td>\n",
              "      <td>0</td>\n",
              "    </tr>\n",
              "  </tbody>\n",
              "</table>\n",
              "</div>\n",
              "      <button class=\"colab-df-convert\" onclick=\"convertToInteractive('df-f0d2614c-28af-431b-8997-3d52f089a82e')\"\n",
              "              title=\"Convert this dataframe to an interactive table.\"\n",
              "              style=\"display:none;\">\n",
              "        \n",
              "  <svg xmlns=\"http://www.w3.org/2000/svg\" height=\"24px\"viewBox=\"0 0 24 24\"\n",
              "       width=\"24px\">\n",
              "    <path d=\"M0 0h24v24H0V0z\" fill=\"none\"/>\n",
              "    <path d=\"M18.56 5.44l.94 2.06.94-2.06 2.06-.94-2.06-.94-.94-2.06-.94 2.06-2.06.94zm-11 1L8.5 8.5l.94-2.06 2.06-.94-2.06-.94L8.5 2.5l-.94 2.06-2.06.94zm10 10l.94 2.06.94-2.06 2.06-.94-2.06-.94-.94-2.06-.94 2.06-2.06.94z\"/><path d=\"M17.41 7.96l-1.37-1.37c-.4-.4-.92-.59-1.43-.59-.52 0-1.04.2-1.43.59L10.3 9.45l-7.72 7.72c-.78.78-.78 2.05 0 2.83L4 21.41c.39.39.9.59 1.41.59.51 0 1.02-.2 1.41-.59l7.78-7.78 2.81-2.81c.8-.78.8-2.07 0-2.86zM5.41 20L4 18.59l7.72-7.72 1.47 1.35L5.41 20z\"/>\n",
              "  </svg>\n",
              "      </button>\n",
              "      \n",
              "  <style>\n",
              "    .colab-df-container {\n",
              "      display:flex;\n",
              "      flex-wrap:wrap;\n",
              "      gap: 12px;\n",
              "    }\n",
              "\n",
              "    .colab-df-convert {\n",
              "      background-color: #E8F0FE;\n",
              "      border: none;\n",
              "      border-radius: 50%;\n",
              "      cursor: pointer;\n",
              "      display: none;\n",
              "      fill: #1967D2;\n",
              "      height: 32px;\n",
              "      padding: 0 0 0 0;\n",
              "      width: 32px;\n",
              "    }\n",
              "\n",
              "    .colab-df-convert:hover {\n",
              "      background-color: #E2EBFA;\n",
              "      box-shadow: 0px 1px 2px rgba(60, 64, 67, 0.3), 0px 1px 3px 1px rgba(60, 64, 67, 0.15);\n",
              "      fill: #174EA6;\n",
              "    }\n",
              "\n",
              "    [theme=dark] .colab-df-convert {\n",
              "      background-color: #3B4455;\n",
              "      fill: #D2E3FC;\n",
              "    }\n",
              "\n",
              "    [theme=dark] .colab-df-convert:hover {\n",
              "      background-color: #434B5C;\n",
              "      box-shadow: 0px 1px 3px 1px rgba(0, 0, 0, 0.15);\n",
              "      filter: drop-shadow(0px 1px 2px rgba(0, 0, 0, 0.3));\n",
              "      fill: #FFFFFF;\n",
              "    }\n",
              "  </style>\n",
              "\n",
              "      <script>\n",
              "        const buttonEl =\n",
              "          document.querySelector('#df-f0d2614c-28af-431b-8997-3d52f089a82e button.colab-df-convert');\n",
              "        buttonEl.style.display =\n",
              "          google.colab.kernel.accessAllowed ? 'block' : 'none';\n",
              "\n",
              "        async function convertToInteractive(key) {\n",
              "          const element = document.querySelector('#df-f0d2614c-28af-431b-8997-3d52f089a82e');\n",
              "          const dataTable =\n",
              "            await google.colab.kernel.invokeFunction('convertToInteractive',\n",
              "                                                     [key], {});\n",
              "          if (!dataTable) return;\n",
              "\n",
              "          const docLinkHtml = 'Like what you see? Visit the ' +\n",
              "            '<a target=\"_blank\" href=https://colab.research.google.com/notebooks/data_table.ipynb>data table notebook</a>'\n",
              "            + ' to learn more about interactive tables.';\n",
              "          element.innerHTML = '';\n",
              "          dataTable['output_type'] = 'display_data';\n",
              "          await google.colab.output.renderOutput(dataTable, element);\n",
              "          const docLink = document.createElement('div');\n",
              "          docLink.innerHTML = docLinkHtml;\n",
              "          element.appendChild(docLink);\n",
              "        }\n",
              "      </script>\n",
              "    </div>\n",
              "  </div>\n",
              "  "
            ],
            "text/plain": [
              "                                                 Title  \\\n",
              "511  Practical Experiences in Designing and Conduct...   \n",
              "512  A structured approach to academic technology t...   \n",
              "513  Collaborative research project networks: Knowl...   \n",
              "514  Enablers and Impediments for Collaborative Res...   \n",
              "515  Models, processes, and roles of universities i...   \n",
              "\n",
              "                                              Abstract  Relevance  \n",
              "511  More and more, software engineering researcher...          1  \n",
              "512  In this article, we describe imec?s 101 Progra...          0  \n",
              "513  Many businesses seeking enhanced innovation ha...          0  \n",
              "514  When it comes to industrial organizations, cur...          1  \n",
              "515  Universities play pivotal roles when research ...          0  "
            ]
          },
          "execution_count": 19,
          "metadata": {},
          "output_type": "execute_result"
        }
      ],
      "source": [
        "df_train = df_train.reset_index(drop=True)\n",
        "df_train.tail()"
      ]
    },
    {
      "cell_type": "code",
      "execution_count": 21,
      "metadata": {
        "colab": {
          "base_uri": "https://localhost:8080/",
          "height": 206
        },
        "id": "P4ZX5eB-EnnA",
        "outputId": "9c70b187-515b-46b7-c7ce-e14c834e1bd7"
      },
      "outputs": [
        {
          "data": {
            "text/html": [
              "\n",
              "  <div id=\"df-fbc17154-027d-4a86-af25-870748639ced\">\n",
              "    <div class=\"colab-df-container\">\n",
              "      <div>\n",
              "<style scoped>\n",
              "    .dataframe tbody tr th:only-of-type {\n",
              "        vertical-align: middle;\n",
              "    }\n",
              "\n",
              "    .dataframe tbody tr th {\n",
              "        vertical-align: top;\n",
              "    }\n",
              "\n",
              "    .dataframe thead th {\n",
              "        text-align: right;\n",
              "    }\n",
              "</style>\n",
              "<table border=\"1\" class=\"dataframe\">\n",
              "  <thead>\n",
              "    <tr style=\"text-align: right;\">\n",
              "      <th></th>\n",
              "      <th>Title</th>\n",
              "      <th>Abstract</th>\n",
              "      <th>Relevance</th>\n",
              "    </tr>\n",
              "  </thead>\n",
              "  <tbody>\n",
              "    <tr>\n",
              "      <th>1007</th>\n",
              "      <td>International Scientific Collaboration in Arti...</td>\n",
              "      <td>NaN</td>\n",
              "      <td>0</td>\n",
              "    </tr>\n",
              "    <tr>\n",
              "      <th>1008</th>\n",
              "      <td>Applying Action Design Research ({ADR}) to Dev...</td>\n",
              "      <td>NaN</td>\n",
              "      <td>0</td>\n",
              "    </tr>\n",
              "    <tr>\n",
              "      <th>1009</th>\n",
              "      <td>Predicting coauthorship using bibliographic ne...</td>\n",
              "      <td>Coauthorship prediction applies predictive ana...</td>\n",
              "      <td>0</td>\n",
              "    </tr>\n",
              "    <tr>\n",
              "      <th>1010</th>\n",
              "      <td>Making design research relevant for design pra...</td>\n",
              "      <td>Knowledge from academic design research projec...</td>\n",
              "      <td>0</td>\n",
              "    </tr>\n",
              "    <tr>\n",
              "      <th>1011</th>\n",
              "      <td>From Theory to Practice{\\textemdash}When and H...</td>\n",
              "      <td>NaN</td>\n",
              "      <td>0</td>\n",
              "    </tr>\n",
              "  </tbody>\n",
              "</table>\n",
              "</div>\n",
              "      <button class=\"colab-df-convert\" onclick=\"convertToInteractive('df-fbc17154-027d-4a86-af25-870748639ced')\"\n",
              "              title=\"Convert this dataframe to an interactive table.\"\n",
              "              style=\"display:none;\">\n",
              "        \n",
              "  <svg xmlns=\"http://www.w3.org/2000/svg\" height=\"24px\"viewBox=\"0 0 24 24\"\n",
              "       width=\"24px\">\n",
              "    <path d=\"M0 0h24v24H0V0z\" fill=\"none\"/>\n",
              "    <path d=\"M18.56 5.44l.94 2.06.94-2.06 2.06-.94-2.06-.94-.94-2.06-.94 2.06-2.06.94zm-11 1L8.5 8.5l.94-2.06 2.06-.94-2.06-.94L8.5 2.5l-.94 2.06-2.06.94zm10 10l.94 2.06.94-2.06 2.06-.94-2.06-.94-.94-2.06-.94 2.06-2.06.94z\"/><path d=\"M17.41 7.96l-1.37-1.37c-.4-.4-.92-.59-1.43-.59-.52 0-1.04.2-1.43.59L10.3 9.45l-7.72 7.72c-.78.78-.78 2.05 0 2.83L4 21.41c.39.39.9.59 1.41.59.51 0 1.02-.2 1.41-.59l7.78-7.78 2.81-2.81c.8-.78.8-2.07 0-2.86zM5.41 20L4 18.59l7.72-7.72 1.47 1.35L5.41 20z\"/>\n",
              "  </svg>\n",
              "      </button>\n",
              "      \n",
              "  <style>\n",
              "    .colab-df-container {\n",
              "      display:flex;\n",
              "      flex-wrap:wrap;\n",
              "      gap: 12px;\n",
              "    }\n",
              "\n",
              "    .colab-df-convert {\n",
              "      background-color: #E8F0FE;\n",
              "      border: none;\n",
              "      border-radius: 50%;\n",
              "      cursor: pointer;\n",
              "      display: none;\n",
              "      fill: #1967D2;\n",
              "      height: 32px;\n",
              "      padding: 0 0 0 0;\n",
              "      width: 32px;\n",
              "    }\n",
              "\n",
              "    .colab-df-convert:hover {\n",
              "      background-color: #E2EBFA;\n",
              "      box-shadow: 0px 1px 2px rgba(60, 64, 67, 0.3), 0px 1px 3px 1px rgba(60, 64, 67, 0.15);\n",
              "      fill: #174EA6;\n",
              "    }\n",
              "\n",
              "    [theme=dark] .colab-df-convert {\n",
              "      background-color: #3B4455;\n",
              "      fill: #D2E3FC;\n",
              "    }\n",
              "\n",
              "    [theme=dark] .colab-df-convert:hover {\n",
              "      background-color: #434B5C;\n",
              "      box-shadow: 0px 1px 3px 1px rgba(0, 0, 0, 0.15);\n",
              "      filter: drop-shadow(0px 1px 2px rgba(0, 0, 0, 0.3));\n",
              "      fill: #FFFFFF;\n",
              "    }\n",
              "  </style>\n",
              "\n",
              "      <script>\n",
              "        const buttonEl =\n",
              "          document.querySelector('#df-fbc17154-027d-4a86-af25-870748639ced button.colab-df-convert');\n",
              "        buttonEl.style.display =\n",
              "          google.colab.kernel.accessAllowed ? 'block' : 'none';\n",
              "\n",
              "        async function convertToInteractive(key) {\n",
              "          const element = document.querySelector('#df-fbc17154-027d-4a86-af25-870748639ced');\n",
              "          const dataTable =\n",
              "            await google.colab.kernel.invokeFunction('convertToInteractive',\n",
              "                                                     [key], {});\n",
              "          if (!dataTable) return;\n",
              "\n",
              "          const docLinkHtml = 'Like what you see? Visit the ' +\n",
              "            '<a target=\"_blank\" href=https://colab.research.google.com/notebooks/data_table.ipynb>data table notebook</a>'\n",
              "            + ' to learn more about interactive tables.';\n",
              "          element.innerHTML = '';\n",
              "          dataTable['output_type'] = 'display_data';\n",
              "          await google.colab.output.renderOutput(dataTable, element);\n",
              "          const docLink = document.createElement('div');\n",
              "          docLink.innerHTML = docLinkHtml;\n",
              "          element.appendChild(docLink);\n",
              "        }\n",
              "      </script>\n",
              "    </div>\n",
              "  </div>\n",
              "  "
            ],
            "text/plain": [
              "                                                  Title  \\\n",
              "1007  International Scientific Collaboration in Arti...   \n",
              "1008  Applying Action Design Research ({ADR}) to Dev...   \n",
              "1009  Predicting coauthorship using bibliographic ne...   \n",
              "1010  Making design research relevant for design pra...   \n",
              "1011  From Theory to Practice{\\textemdash}When and H...   \n",
              "\n",
              "                                               Abstract  Relevance  \n",
              "1007                                                NaN          0  \n",
              "1008                                                NaN          0  \n",
              "1009  Coauthorship prediction applies predictive ana...          0  \n",
              "1010  Knowledge from academic design research projec...          0  \n",
              "1011                                                NaN          0  "
            ]
          },
          "execution_count": 21,
          "metadata": {},
          "output_type": "execute_result"
        }
      ],
      "source": [
        "df_test = df_test.reset_index(drop=True)\n",
        "df_test.tail()"
      ]
    },
    {
      "cell_type": "code",
      "execution_count": 22,
      "metadata": {
        "colab": {
          "base_uri": "https://localhost:8080/"
        },
        "id": "Pp_YuisusaRs",
        "outputId": "01697dff-2ca0-4f9b-b7b1-2df4cbe4bc14"
      },
      "outputs": [
        {
          "data": {
            "text/plain": [
              "((516, 3), (1012, 3), (35, 3))"
            ]
          },
          "execution_count": 22,
          "metadata": {},
          "output_type": "execute_result"
        }
      ],
      "source": [
        "df_train.shape, df_test.shape, df_ones.shape"
      ]
    },
    {
      "cell_type": "markdown",
      "metadata": {
        "id": "ivMA4fwulEqN"
      },
      "source": [
        "Removing nan values"
      ]
    },
    {
      "cell_type": "code",
      "execution_count": 23,
      "metadata": {
        "id": "CeHpku6Oj9No"
      },
      "outputs": [],
      "source": [
        "df_train['Abstract'] = df_train['Abstract'].fillna(' ')"
      ]
    },
    {
      "attachments": {},
      "cell_type": "markdown",
      "metadata": {},
      "source": [
        "Merging the Title and Abstract"
      ]
    },
    {
      "cell_type": "code",
      "execution_count": 24,
      "metadata": {
        "id": "FXTiFmPKiQEE"
      },
      "outputs": [],
      "source": [
        "\n",
        "df_train[\"Merged\"] = df_train[\"Title\"] + df_train[\"Abstract\"]"
      ]
    },
    {
      "cell_type": "code",
      "execution_count": 25,
      "metadata": {
        "colab": {
          "base_uri": "https://localhost:8080/",
          "height": 206
        },
        "id": "bI3p0JXfi9Kp",
        "outputId": "262f066e-76d4-42f4-a18b-b36dc0a0ec34"
      },
      "outputs": [
        {
          "data": {
            "text/html": [
              "\n",
              "  <div id=\"df-6e506512-55fa-4b11-81e3-0e25e77f129d\">\n",
              "    <div class=\"colab-df-container\">\n",
              "      <div>\n",
              "<style scoped>\n",
              "    .dataframe tbody tr th:only-of-type {\n",
              "        vertical-align: middle;\n",
              "    }\n",
              "\n",
              "    .dataframe tbody tr th {\n",
              "        vertical-align: top;\n",
              "    }\n",
              "\n",
              "    .dataframe thead th {\n",
              "        text-align: right;\n",
              "    }\n",
              "</style>\n",
              "<table border=\"1\" class=\"dataframe\">\n",
              "  <thead>\n",
              "    <tr style=\"text-align: right;\">\n",
              "      <th></th>\n",
              "      <th>Title</th>\n",
              "      <th>Abstract</th>\n",
              "      <th>Relevance</th>\n",
              "      <th>Merged</th>\n",
              "    </tr>\n",
              "  </thead>\n",
              "  <tbody>\n",
              "    <tr>\n",
              "      <th>0</th>\n",
              "      <td>Bridging the Industry-Academia Collaboration G...</td>\n",
              "      <td>Industry-Academia collaboration is much necess...</td>\n",
              "      <td>0</td>\n",
              "      <td>Bridging the Industry-Academia Collaboration G...</td>\n",
              "    </tr>\n",
              "    <tr>\n",
              "      <th>1</th>\n",
              "      <td>The Management of University--Industry Collabo...</td>\n",
              "      <td>In this chapter we will discuss some of the pr...</td>\n",
              "      <td>1</td>\n",
              "      <td>The Management of University--Industry Collabo...</td>\n",
              "    </tr>\n",
              "    <tr>\n",
              "      <th>2</th>\n",
              "      <td>Observations from the Industry-as-Laboratory R...</td>\n",
              "      <td>In 1993, Potts observed that research done usi...</td>\n",
              "      <td>1</td>\n",
              "      <td>Observations from the Industry-as-Laboratory R...</td>\n",
              "    </tr>\n",
              "    <tr>\n",
              "      <th>3</th>\n",
              "      <td>A Critical View on PLM/ALM Convergence in Prac...</td>\n",
              "      <td>The Internet of Things (IoT) is the main drive...</td>\n",
              "      <td>0</td>\n",
              "      <td>A Critical View on PLM/ALM Convergence in Prac...</td>\n",
              "    </tr>\n",
              "    <tr>\n",
              "      <th>4</th>\n",
              "      <td>Critical success factors (CSFs) in university-...</td>\n",
              "      <td>This research study examines the CSFs in UIC t...</td>\n",
              "      <td>0</td>\n",
              "      <td>Critical success factors (CSFs) in university-...</td>\n",
              "    </tr>\n",
              "  </tbody>\n",
              "</table>\n",
              "</div>\n",
              "      <button class=\"colab-df-convert\" onclick=\"convertToInteractive('df-6e506512-55fa-4b11-81e3-0e25e77f129d')\"\n",
              "              title=\"Convert this dataframe to an interactive table.\"\n",
              "              style=\"display:none;\">\n",
              "        \n",
              "  <svg xmlns=\"http://www.w3.org/2000/svg\" height=\"24px\"viewBox=\"0 0 24 24\"\n",
              "       width=\"24px\">\n",
              "    <path d=\"M0 0h24v24H0V0z\" fill=\"none\"/>\n",
              "    <path d=\"M18.56 5.44l.94 2.06.94-2.06 2.06-.94-2.06-.94-.94-2.06-.94 2.06-2.06.94zm-11 1L8.5 8.5l.94-2.06 2.06-.94-2.06-.94L8.5 2.5l-.94 2.06-2.06.94zm10 10l.94 2.06.94-2.06 2.06-.94-2.06-.94-.94-2.06-.94 2.06-2.06.94z\"/><path d=\"M17.41 7.96l-1.37-1.37c-.4-.4-.92-.59-1.43-.59-.52 0-1.04.2-1.43.59L10.3 9.45l-7.72 7.72c-.78.78-.78 2.05 0 2.83L4 21.41c.39.39.9.59 1.41.59.51 0 1.02-.2 1.41-.59l7.78-7.78 2.81-2.81c.8-.78.8-2.07 0-2.86zM5.41 20L4 18.59l7.72-7.72 1.47 1.35L5.41 20z\"/>\n",
              "  </svg>\n",
              "      </button>\n",
              "      \n",
              "  <style>\n",
              "    .colab-df-container {\n",
              "      display:flex;\n",
              "      flex-wrap:wrap;\n",
              "      gap: 12px;\n",
              "    }\n",
              "\n",
              "    .colab-df-convert {\n",
              "      background-color: #E8F0FE;\n",
              "      border: none;\n",
              "      border-radius: 50%;\n",
              "      cursor: pointer;\n",
              "      display: none;\n",
              "      fill: #1967D2;\n",
              "      height: 32px;\n",
              "      padding: 0 0 0 0;\n",
              "      width: 32px;\n",
              "    }\n",
              "\n",
              "    .colab-df-convert:hover {\n",
              "      background-color: #E2EBFA;\n",
              "      box-shadow: 0px 1px 2px rgba(60, 64, 67, 0.3), 0px 1px 3px 1px rgba(60, 64, 67, 0.15);\n",
              "      fill: #174EA6;\n",
              "    }\n",
              "\n",
              "    [theme=dark] .colab-df-convert {\n",
              "      background-color: #3B4455;\n",
              "      fill: #D2E3FC;\n",
              "    }\n",
              "\n",
              "    [theme=dark] .colab-df-convert:hover {\n",
              "      background-color: #434B5C;\n",
              "      box-shadow: 0px 1px 3px 1px rgba(0, 0, 0, 0.15);\n",
              "      filter: drop-shadow(0px 1px 2px rgba(0, 0, 0, 0.3));\n",
              "      fill: #FFFFFF;\n",
              "    }\n",
              "  </style>\n",
              "\n",
              "      <script>\n",
              "        const buttonEl =\n",
              "          document.querySelector('#df-6e506512-55fa-4b11-81e3-0e25e77f129d button.colab-df-convert');\n",
              "        buttonEl.style.display =\n",
              "          google.colab.kernel.accessAllowed ? 'block' : 'none';\n",
              "\n",
              "        async function convertToInteractive(key) {\n",
              "          const element = document.querySelector('#df-6e506512-55fa-4b11-81e3-0e25e77f129d');\n",
              "          const dataTable =\n",
              "            await google.colab.kernel.invokeFunction('convertToInteractive',\n",
              "                                                     [key], {});\n",
              "          if (!dataTable) return;\n",
              "\n",
              "          const docLinkHtml = 'Like what you see? Visit the ' +\n",
              "            '<a target=\"_blank\" href=https://colab.research.google.com/notebooks/data_table.ipynb>data table notebook</a>'\n",
              "            + ' to learn more about interactive tables.';\n",
              "          element.innerHTML = '';\n",
              "          dataTable['output_type'] = 'display_data';\n",
              "          await google.colab.output.renderOutput(dataTable, element);\n",
              "          const docLink = document.createElement('div');\n",
              "          docLink.innerHTML = docLinkHtml;\n",
              "          element.appendChild(docLink);\n",
              "        }\n",
              "      </script>\n",
              "    </div>\n",
              "  </div>\n",
              "  "
            ],
            "text/plain": [
              "                                               Title  \\\n",
              "0  Bridging the Industry-Academia Collaboration G...   \n",
              "1  The Management of University--Industry Collabo...   \n",
              "2  Observations from the Industry-as-Laboratory R...   \n",
              "3  A Critical View on PLM/ALM Convergence in Prac...   \n",
              "4  Critical success factors (CSFs) in university-...   \n",
              "\n",
              "                                            Abstract  Relevance  \\\n",
              "0  Industry-Academia collaboration is much necess...          0   \n",
              "1  In this chapter we will discuss some of the pr...          1   \n",
              "2  In 1993, Potts observed that research done usi...          1   \n",
              "3  The Internet of Things (IoT) is the main drive...          0   \n",
              "4  This research study examines the CSFs in UIC t...          0   \n",
              "\n",
              "                                              Merged  \n",
              "0  Bridging the Industry-Academia Collaboration G...  \n",
              "1  The Management of University--Industry Collabo...  \n",
              "2  Observations from the Industry-as-Laboratory R...  \n",
              "3  A Critical View on PLM/ALM Convergence in Prac...  \n",
              "4  Critical success factors (CSFs) in university-...  "
            ]
          },
          "execution_count": 25,
          "metadata": {},
          "output_type": "execute_result"
        }
      ],
      "source": [
        "df_train.head()"
      ]
    },
    {
      "cell_type": "code",
      "execution_count": 26,
      "metadata": {
        "colab": {
          "base_uri": "https://localhost:8080/"
        },
        "id": "Hb2AfpwyjBBC",
        "outputId": "9183f315-3fe6-4106-a936-1637540eac73"
      },
      "outputs": [
        {
          "data": {
            "text/plain": [
              "Title        0\n",
              "Abstract     0\n",
              "Relevance    0\n",
              "Merged       0\n",
              "dtype: int64"
            ]
          },
          "execution_count": 26,
          "metadata": {},
          "output_type": "execute_result"
        }
      ],
      "source": [
        "df_train.isnull().sum()"
      ]
    },
    {
      "attachments": {},
      "cell_type": "markdown",
      "metadata": {},
      "source": [
        "Handling Nan values and merging the title-abstract for test set"
      ]
    },
    {
      "cell_type": "code",
      "execution_count": 27,
      "metadata": {
        "id": "LYkmw6vPlkcj"
      },
      "outputs": [],
      "source": [
        "df_test['Title'] = df_test['Title'].fillna(' ')\n",
        "df_test['Abstract'] = df_test['Abstract'].fillna(' ')\n",
        "df_test[\"Merged\"] = df_test[\"Title\"] + df_test[\"Abstract\"]"
      ]
    },
    {
      "cell_type": "code",
      "execution_count": 28,
      "metadata": {
        "colab": {
          "base_uri": "https://localhost:8080/",
          "height": 250
        },
        "id": "FR-HG1pkltnG",
        "outputId": "45aaa6a4-cd7f-4f05-c724-7f12f94f5225"
      },
      "outputs": [
        {
          "data": {
            "text/html": [
              "\n",
              "  <div id=\"df-a5c7cf8f-45af-4012-965b-38c1d6daf1b0\">\n",
              "    <div class=\"colab-df-container\">\n",
              "      <div>\n",
              "<style scoped>\n",
              "    .dataframe tbody tr th:only-of-type {\n",
              "        vertical-align: middle;\n",
              "    }\n",
              "\n",
              "    .dataframe tbody tr th {\n",
              "        vertical-align: top;\n",
              "    }\n",
              "\n",
              "    .dataframe thead th {\n",
              "        text-align: right;\n",
              "    }\n",
              "</style>\n",
              "<table border=\"1\" class=\"dataframe\">\n",
              "  <thead>\n",
              "    <tr style=\"text-align: right;\">\n",
              "      <th></th>\n",
              "      <th>Title</th>\n",
              "      <th>Abstract</th>\n",
              "      <th>Relevance</th>\n",
              "      <th>Merged</th>\n",
              "    </tr>\n",
              "  </thead>\n",
              "  <tbody>\n",
              "    <tr>\n",
              "      <th>0</th>\n",
              "      <td>Using Scrum in Outsourced Government Projects:...</td>\n",
              "      <td>The growth in popularity of Agile methods plus...</td>\n",
              "      <td>0</td>\n",
              "      <td>Using Scrum in Outsourced Government Projects:...</td>\n",
              "    </tr>\n",
              "    <tr>\n",
              "      <th>1</th>\n",
              "      <td>Academic and Industrial Software Testing Confe...</td>\n",
              "      <td>Just as with any other profession, an efficien...</td>\n",
              "      <td>0</td>\n",
              "      <td>Academic and Industrial Software Testing Confe...</td>\n",
              "    </tr>\n",
              "    <tr>\n",
              "      <th>2</th>\n",
              "      <td>Light-Touch Interventions to Improve Software ...</td>\n",
              "      <td>Many software developers still have little int...</td>\n",
              "      <td>0</td>\n",
              "      <td>Light-Touch Interventions to Improve Software ...</td>\n",
              "    </tr>\n",
              "    <tr>\n",
              "      <th>3</th>\n",
              "      <td>Interventions for Software Security: Creating ...</td>\n",
              "      <td>Though some software development teams are hig...</td>\n",
              "      <td>0</td>\n",
              "      <td>Interventions for Software Security: Creating ...</td>\n",
              "    </tr>\n",
              "    <tr>\n",
              "      <th>4</th>\n",
              "      <td>Measuring and Improving Agile Processes in a S...</td>\n",
              "      <td>Context: Agile software development has become...</td>\n",
              "      <td>0</td>\n",
              "      <td>Measuring and Improving Agile Processes in a S...</td>\n",
              "    </tr>\n",
              "  </tbody>\n",
              "</table>\n",
              "</div>\n",
              "      <button class=\"colab-df-convert\" onclick=\"convertToInteractive('df-a5c7cf8f-45af-4012-965b-38c1d6daf1b0')\"\n",
              "              title=\"Convert this dataframe to an interactive table.\"\n",
              "              style=\"display:none;\">\n",
              "        \n",
              "  <svg xmlns=\"http://www.w3.org/2000/svg\" height=\"24px\"viewBox=\"0 0 24 24\"\n",
              "       width=\"24px\">\n",
              "    <path d=\"M0 0h24v24H0V0z\" fill=\"none\"/>\n",
              "    <path d=\"M18.56 5.44l.94 2.06.94-2.06 2.06-.94-2.06-.94-.94-2.06-.94 2.06-2.06.94zm-11 1L8.5 8.5l.94-2.06 2.06-.94-2.06-.94L8.5 2.5l-.94 2.06-2.06.94zm10 10l.94 2.06.94-2.06 2.06-.94-2.06-.94-.94-2.06-.94 2.06-2.06.94z\"/><path d=\"M17.41 7.96l-1.37-1.37c-.4-.4-.92-.59-1.43-.59-.52 0-1.04.2-1.43.59L10.3 9.45l-7.72 7.72c-.78.78-.78 2.05 0 2.83L4 21.41c.39.39.9.59 1.41.59.51 0 1.02-.2 1.41-.59l7.78-7.78 2.81-2.81c.8-.78.8-2.07 0-2.86zM5.41 20L4 18.59l7.72-7.72 1.47 1.35L5.41 20z\"/>\n",
              "  </svg>\n",
              "      </button>\n",
              "      \n",
              "  <style>\n",
              "    .colab-df-container {\n",
              "      display:flex;\n",
              "      flex-wrap:wrap;\n",
              "      gap: 12px;\n",
              "    }\n",
              "\n",
              "    .colab-df-convert {\n",
              "      background-color: #E8F0FE;\n",
              "      border: none;\n",
              "      border-radius: 50%;\n",
              "      cursor: pointer;\n",
              "      display: none;\n",
              "      fill: #1967D2;\n",
              "      height: 32px;\n",
              "      padding: 0 0 0 0;\n",
              "      width: 32px;\n",
              "    }\n",
              "\n",
              "    .colab-df-convert:hover {\n",
              "      background-color: #E2EBFA;\n",
              "      box-shadow: 0px 1px 2px rgba(60, 64, 67, 0.3), 0px 1px 3px 1px rgba(60, 64, 67, 0.15);\n",
              "      fill: #174EA6;\n",
              "    }\n",
              "\n",
              "    [theme=dark] .colab-df-convert {\n",
              "      background-color: #3B4455;\n",
              "      fill: #D2E3FC;\n",
              "    }\n",
              "\n",
              "    [theme=dark] .colab-df-convert:hover {\n",
              "      background-color: #434B5C;\n",
              "      box-shadow: 0px 1px 3px 1px rgba(0, 0, 0, 0.15);\n",
              "      filter: drop-shadow(0px 1px 2px rgba(0, 0, 0, 0.3));\n",
              "      fill: #FFFFFF;\n",
              "    }\n",
              "  </style>\n",
              "\n",
              "      <script>\n",
              "        const buttonEl =\n",
              "          document.querySelector('#df-a5c7cf8f-45af-4012-965b-38c1d6daf1b0 button.colab-df-convert');\n",
              "        buttonEl.style.display =\n",
              "          google.colab.kernel.accessAllowed ? 'block' : 'none';\n",
              "\n",
              "        async function convertToInteractive(key) {\n",
              "          const element = document.querySelector('#df-a5c7cf8f-45af-4012-965b-38c1d6daf1b0');\n",
              "          const dataTable =\n",
              "            await google.colab.kernel.invokeFunction('convertToInteractive',\n",
              "                                                     [key], {});\n",
              "          if (!dataTable) return;\n",
              "\n",
              "          const docLinkHtml = 'Like what you see? Visit the ' +\n",
              "            '<a target=\"_blank\" href=https://colab.research.google.com/notebooks/data_table.ipynb>data table notebook</a>'\n",
              "            + ' to learn more about interactive tables.';\n",
              "          element.innerHTML = '';\n",
              "          dataTable['output_type'] = 'display_data';\n",
              "          await google.colab.output.renderOutput(dataTable, element);\n",
              "          const docLink = document.createElement('div');\n",
              "          docLink.innerHTML = docLinkHtml;\n",
              "          element.appendChild(docLink);\n",
              "        }\n",
              "      </script>\n",
              "    </div>\n",
              "  </div>\n",
              "  "
            ],
            "text/plain": [
              "                                               Title  \\\n",
              "0  Using Scrum in Outsourced Government Projects:...   \n",
              "1  Academic and Industrial Software Testing Confe...   \n",
              "2  Light-Touch Interventions to Improve Software ...   \n",
              "3  Interventions for Software Security: Creating ...   \n",
              "4  Measuring and Improving Agile Processes in a S...   \n",
              "\n",
              "                                            Abstract  Relevance  \\\n",
              "0  The growth in popularity of Agile methods plus...          0   \n",
              "1  Just as with any other profession, an efficien...          0   \n",
              "2  Many software developers still have little int...          0   \n",
              "3  Though some software development teams are hig...          0   \n",
              "4  Context: Agile software development has become...          0   \n",
              "\n",
              "                                              Merged  \n",
              "0  Using Scrum in Outsourced Government Projects:...  \n",
              "1  Academic and Industrial Software Testing Confe...  \n",
              "2  Light-Touch Interventions to Improve Software ...  \n",
              "3  Interventions for Software Security: Creating ...  \n",
              "4  Measuring and Improving Agile Processes in a S...  "
            ]
          },
          "execution_count": 28,
          "metadata": {},
          "output_type": "execute_result"
        }
      ],
      "source": [
        "df_test.head()"
      ]
    },
    {
      "cell_type": "code",
      "execution_count": 29,
      "metadata": {
        "colab": {
          "base_uri": "https://localhost:8080/"
        },
        "id": "TNDqtMuLlwHg",
        "outputId": "c607ac4c-214f-421f-87ce-901027bf7abb"
      },
      "outputs": [
        {
          "data": {
            "text/plain": [
              "Title        0\n",
              "Abstract     0\n",
              "Relevance    0\n",
              "Merged       0\n",
              "dtype: int64"
            ]
          },
          "execution_count": 29,
          "metadata": {},
          "output_type": "execute_result"
        }
      ],
      "source": [
        "df_test.isnull().sum()"
      ]
    },
    {
      "cell_type": "code",
      "execution_count": null,
      "metadata": {
        "colab": {
          "base_uri": "https://localhost:8080/"
        },
        "id": "9PewI7UP69Wg",
        "outputId": "89246b1c-8704-497a-fb35-61f3c6201af5"
      },
      "outputs": [
        {
          "name": "stdout",
          "output_type": "stream",
          "text": [
            "108\n",
            "Meeting Industry-Academia Research Collaboration Challenges with Agile Methodologies\n",
            "53\n",
            "Leveraging organizational climate theory for understanding industry-academia collaboration\n",
            "19\n",
            "Characterizing industry-academia collaborations in software engineering: evidence from 101 projects\n",
            "28\n",
            "Industry-Academia research collaboration in software engineering: The Certus model\n",
            "45\n",
            "Knowledge Management in University-Software Industry Collaboration\n",
            "60\n",
            "Lessons Learned on Research Co-Creation: Making Industry-Academia Collaboration Work\n",
            "75\n",
            "Planning for the Unknown: Lessons Learned from Ten Months of Non-participant Exploratory Observations in the Industry\n",
            "84\n",
            "University-software industry collaboration: an empirical study based on knowledge management\n",
            "81\n",
            "Generative Modeling Games for Exploratory Industry-Academic Research\n",
            "146\n",
            "Recruitment, engagement and feedback in empirical software engineering studies in industrial contexts\n",
            "192\n",
            "Continuous and collaborative technology transfer: Software engineering research with real-time industry impact\n",
            "180\n",
            "Third Generation Industrial Co-production in Software Engineering\n",
            "218\n",
            "An Exploratory Study on Technology Transfer in Software Engineering\n",
            "530\n",
            "Towards a model to transfer knowledge from software engineering research to practice\n",
            "479\n",
            "Fast Feedback Cycles in Empirical Software Engineering Research\n",
            "168\n",
            "Contextualizing Research Evidence through Knowledge Translation in Software Engineering\n",
            "217\n",
            "Integration of SE Research and Industry: Reflections, Theories and Illustrative Example\n",
            "376\n",
            "Context checklist for industrial software engineering research and practice\n",
            "18\n"
          ]
        }
      ],
      "source": [
        "### for marking the titles present in testing.csv as 1 in testing-test relevance. but exact match is leaving out many, so done manually\n",
        "# l = 0\n",
        "# indices=[]\n",
        "# for i in range(df_ones.shape[0]):\n",
        "#   # print(df_ones.loc[i,'Title'])\n",
        "#   t = df_ones.loc[i,'Title']\n",
        "#   test = df_test['Title']\n",
        "#   if t in list(test):\n",
        "#     l+=1\n",
        "#     index = np.where(test==t)[0][0]\n",
        "#     print(index)\n",
        "#     indices.append(index)\n",
        "#     # print(df_test.iloc[index])\n",
        "#     print(t)\n",
        "# df_test.loc[indices,'Relevance'] = int(1)\n",
        "# print(l)"
      ]
    },
    {
      "cell_type": "code",
      "execution_count": 29,
      "metadata": {
        "id": "1ZsJM7ks980i"
      },
      "outputs": [],
      "source": [
        "# df_test['Relevance'] = df_test['Relevance'].astype('int')"
      ]
    },
    {
      "cell_type": "code",
      "execution_count": 30,
      "metadata": {
        "colab": {
          "base_uri": "https://localhost:8080/"
        },
        "id": "lOWcqCrmBkk5",
        "outputId": "eb971702-9b1a-4718-b236-3a67e4856074"
      },
      "outputs": [
        {
          "data": {
            "text/plain": [
              "0"
            ]
          },
          "execution_count": 30,
          "metadata": {},
          "output_type": "execute_result"
        }
      ],
      "source": [
        "df_test.loc[18,'Relevance']"
      ]
    },
    {
      "cell_type": "code",
      "execution_count": 31,
      "metadata": {
        "colab": {
          "base_uri": "https://localhost:8080/"
        },
        "id": "t-JxEu0I-6qy",
        "outputId": "35829cef-30b1-47ca-bc84-6b6ecd2f528c"
      },
      "outputs": [
        {
          "data": {
            "text/plain": [
              "Title        object\n",
              "Abstract     object\n",
              "Relevance     int64\n",
              "Merged       object\n",
              "dtype: object"
            ]
          },
          "execution_count": 31,
          "metadata": {},
          "output_type": "execute_result"
        }
      ],
      "source": [
        "df_test.dtypes"
      ]
    },
    {
      "attachments": {},
      "cell_type": "markdown",
      "metadata": {},
      "source": [
        "Checking the frequency of each class in test set"
      ]
    },
    {
      "cell_type": "code",
      "execution_count": 32,
      "metadata": {
        "colab": {
          "base_uri": "https://localhost:8080/",
          "height": 143
        },
        "id": "xRx8jAumF-Xr",
        "outputId": "bec256d1-559c-471a-f413-d622e309eff0"
      },
      "outputs": [
        {
          "data": {
            "text/html": [
              "\n",
              "  <div id=\"df-8ef9b8f1-42ad-4c37-bdcc-e06997d51ef7\">\n",
              "    <div class=\"colab-df-container\">\n",
              "      <div>\n",
              "<style scoped>\n",
              "    .dataframe tbody tr th:only-of-type {\n",
              "        vertical-align: middle;\n",
              "    }\n",
              "\n",
              "    .dataframe tbody tr th {\n",
              "        vertical-align: top;\n",
              "    }\n",
              "\n",
              "    .dataframe thead th {\n",
              "        text-align: right;\n",
              "    }\n",
              "</style>\n",
              "<table border=\"1\" class=\"dataframe\">\n",
              "  <thead>\n",
              "    <tr style=\"text-align: right;\">\n",
              "      <th></th>\n",
              "      <th>Title</th>\n",
              "      <th>Abstract</th>\n",
              "      <th>Merged</th>\n",
              "    </tr>\n",
              "    <tr>\n",
              "      <th>Relevance</th>\n",
              "      <th></th>\n",
              "      <th></th>\n",
              "      <th></th>\n",
              "    </tr>\n",
              "  </thead>\n",
              "  <tbody>\n",
              "    <tr>\n",
              "      <th>0</th>\n",
              "      <td>977</td>\n",
              "      <td>977</td>\n",
              "      <td>977</td>\n",
              "    </tr>\n",
              "    <tr>\n",
              "      <th>1</th>\n",
              "      <td>35</td>\n",
              "      <td>35</td>\n",
              "      <td>35</td>\n",
              "    </tr>\n",
              "  </tbody>\n",
              "</table>\n",
              "</div>\n",
              "      <button class=\"colab-df-convert\" onclick=\"convertToInteractive('df-8ef9b8f1-42ad-4c37-bdcc-e06997d51ef7')\"\n",
              "              title=\"Convert this dataframe to an interactive table.\"\n",
              "              style=\"display:none;\">\n",
              "        \n",
              "  <svg xmlns=\"http://www.w3.org/2000/svg\" height=\"24px\"viewBox=\"0 0 24 24\"\n",
              "       width=\"24px\">\n",
              "    <path d=\"M0 0h24v24H0V0z\" fill=\"none\"/>\n",
              "    <path d=\"M18.56 5.44l.94 2.06.94-2.06 2.06-.94-2.06-.94-.94-2.06-.94 2.06-2.06.94zm-11 1L8.5 8.5l.94-2.06 2.06-.94-2.06-.94L8.5 2.5l-.94 2.06-2.06.94zm10 10l.94 2.06.94-2.06 2.06-.94-2.06-.94-.94-2.06-.94 2.06-2.06.94z\"/><path d=\"M17.41 7.96l-1.37-1.37c-.4-.4-.92-.59-1.43-.59-.52 0-1.04.2-1.43.59L10.3 9.45l-7.72 7.72c-.78.78-.78 2.05 0 2.83L4 21.41c.39.39.9.59 1.41.59.51 0 1.02-.2 1.41-.59l7.78-7.78 2.81-2.81c.8-.78.8-2.07 0-2.86zM5.41 20L4 18.59l7.72-7.72 1.47 1.35L5.41 20z\"/>\n",
              "  </svg>\n",
              "      </button>\n",
              "      \n",
              "  <style>\n",
              "    .colab-df-container {\n",
              "      display:flex;\n",
              "      flex-wrap:wrap;\n",
              "      gap: 12px;\n",
              "    }\n",
              "\n",
              "    .colab-df-convert {\n",
              "      background-color: #E8F0FE;\n",
              "      border: none;\n",
              "      border-radius: 50%;\n",
              "      cursor: pointer;\n",
              "      display: none;\n",
              "      fill: #1967D2;\n",
              "      height: 32px;\n",
              "      padding: 0 0 0 0;\n",
              "      width: 32px;\n",
              "    }\n",
              "\n",
              "    .colab-df-convert:hover {\n",
              "      background-color: #E2EBFA;\n",
              "      box-shadow: 0px 1px 2px rgba(60, 64, 67, 0.3), 0px 1px 3px 1px rgba(60, 64, 67, 0.15);\n",
              "      fill: #174EA6;\n",
              "    }\n",
              "\n",
              "    [theme=dark] .colab-df-convert {\n",
              "      background-color: #3B4455;\n",
              "      fill: #D2E3FC;\n",
              "    }\n",
              "\n",
              "    [theme=dark] .colab-df-convert:hover {\n",
              "      background-color: #434B5C;\n",
              "      box-shadow: 0px 1px 3px 1px rgba(0, 0, 0, 0.15);\n",
              "      filter: drop-shadow(0px 1px 2px rgba(0, 0, 0, 0.3));\n",
              "      fill: #FFFFFF;\n",
              "    }\n",
              "  </style>\n",
              "\n",
              "      <script>\n",
              "        const buttonEl =\n",
              "          document.querySelector('#df-8ef9b8f1-42ad-4c37-bdcc-e06997d51ef7 button.colab-df-convert');\n",
              "        buttonEl.style.display =\n",
              "          google.colab.kernel.accessAllowed ? 'block' : 'none';\n",
              "\n",
              "        async function convertToInteractive(key) {\n",
              "          const element = document.querySelector('#df-8ef9b8f1-42ad-4c37-bdcc-e06997d51ef7');\n",
              "          const dataTable =\n",
              "            await google.colab.kernel.invokeFunction('convertToInteractive',\n",
              "                                                     [key], {});\n",
              "          if (!dataTable) return;\n",
              "\n",
              "          const docLinkHtml = 'Like what you see? Visit the ' +\n",
              "            '<a target=\"_blank\" href=https://colab.research.google.com/notebooks/data_table.ipynb>data table notebook</a>'\n",
              "            + ' to learn more about interactive tables.';\n",
              "          element.innerHTML = '';\n",
              "          dataTable['output_type'] = 'display_data';\n",
              "          await google.colab.output.renderOutput(dataTable, element);\n",
              "          const docLink = document.createElement('div');\n",
              "          docLink.innerHTML = docLinkHtml;\n",
              "          element.appendChild(docLink);\n",
              "        }\n",
              "      </script>\n",
              "    </div>\n",
              "  </div>\n",
              "  "
            ],
            "text/plain": [
              "           Title  Abstract  Merged\n",
              "Relevance                         \n",
              "0            977       977     977\n",
              "1             35        35      35"
            ]
          },
          "execution_count": 32,
          "metadata": {},
          "output_type": "execute_result"
        }
      ],
      "source": [
        "df_test.groupby('Relevance').count()"
      ]
    },
    {
      "attachments": {},
      "cell_type": "markdown",
      "metadata": {},
      "source": [
        "Splitting into Features and Labels for training and testing"
      ]
    },
    {
      "cell_type": "code",
      "execution_count": 33,
      "metadata": {
        "id": "GLGo7cHcslJx"
      },
      "outputs": [],
      "source": [
        "X_train = df_train[\"Merged\"]\n",
        "y_train = df_train[\"Relevance\"]"
      ]
    },
    {
      "cell_type": "code",
      "execution_count": 34,
      "metadata": {
        "id": "d9_Z6nPTuIE6"
      },
      "outputs": [],
      "source": [
        "X_test = df_test[\"Merged\"]\n",
        "y_test = df_test[\"Relevance\"]"
      ]
    },
    {
      "cell_type": "code",
      "execution_count": 35,
      "metadata": {
        "id": "LF5kp_wM1TY-"
      },
      "outputs": [],
      "source": [
        "X_train = X_train.astype(str)"
      ]
    },
    {
      "cell_type": "code",
      "execution_count": 36,
      "metadata": {
        "id": "iqAaDHzTwdPR"
      },
      "outputs": [],
      "source": [
        "X_test = X_test.astype(str) "
      ]
    },
    {
      "cell_type": "code",
      "execution_count": 37,
      "metadata": {
        "colab": {
          "base_uri": "https://localhost:8080/"
        },
        "id": "2cCzUAGDcM6Z",
        "outputId": "5d2f9de9-93d6-4e4e-8849-582c9d7fa421"
      },
      "outputs": [
        {
          "data": {
            "text/plain": [
              "0      Bridging the Industry-Academia Collaboration G...\n",
              "1      The Management of University--Industry Collabo...\n",
              "2      Observations from the Industry-as-Laboratory R...\n",
              "3      A Critical View on PLM/ALM Convergence in Prac...\n",
              "4      Critical success factors (CSFs) in university-...\n",
              "                             ...                        \n",
              "511    Practical Experiences in Designing and Conduct...\n",
              "512    A structured approach to academic technology t...\n",
              "513    Collaborative research project networks: Knowl...\n",
              "514    Enablers and Impediments for Collaborative Res...\n",
              "515    Models, processes, and roles of universities i...\n",
              "Name: Merged, Length: 516, dtype: object"
            ]
          },
          "execution_count": 37,
          "metadata": {},
          "output_type": "execute_result"
        }
      ],
      "source": [
        "X_train"
      ]
    },
    {
      "cell_type": "code",
      "execution_count": 38,
      "metadata": {
        "colab": {
          "base_uri": "https://localhost:8080/"
        },
        "id": "WnqVLo9EK55y",
        "outputId": "2783b8ac-af89-4650-c81b-d7eea12687e0"
      },
      "outputs": [
        {
          "data": {
            "text/plain": [
              "0       Using Scrum in Outsourced Government Projects:...\n",
              "1       Academic and Industrial Software Testing Confe...\n",
              "2       Light-Touch Interventions to Improve Software ...\n",
              "3       Interventions for Software Security: Creating ...\n",
              "4       Measuring and Improving Agile Processes in a S...\n",
              "                              ...                        \n",
              "1007    International Scientific Collaboration in Arti...\n",
              "1008    Applying Action Design Research ({ADR}) to Dev...\n",
              "1009    Predicting coauthorship using bibliographic ne...\n",
              "1010    Making design research relevant for design pra...\n",
              "1011    From Theory to Practice{\\textemdash}When and H...\n",
              "Name: Merged, Length: 1012, dtype: object"
            ]
          },
          "execution_count": 38,
          "metadata": {},
          "output_type": "execute_result"
        }
      ],
      "source": [
        "X_test"
      ]
    },
    {
      "cell_type": "markdown",
      "metadata": {
        "id": "Nu5Bp-kVd14F"
      },
      "source": [
        "Text Preprocessing"
      ]
    },
    {
      "cell_type": "code",
      "execution_count": 39,
      "metadata": {
        "colab": {
          "base_uri": "https://localhost:8080/"
        },
        "id": "K_kBL43dch4E",
        "outputId": "48863043-d2e5-4f89-f493-82864cfda142"
      },
      "outputs": [
        {
          "name": "stderr",
          "output_type": "stream",
          "text": [
            "[nltk_data] Downloading package stopwords to /root/nltk_data...\n",
            "[nltk_data]   Unzipping corpora/stopwords.zip.\n"
          ]
        },
        {
          "data": {
            "text/plain": [
              "True"
            ]
          },
          "execution_count": 39,
          "metadata": {},
          "output_type": "execute_result"
        }
      ],
      "source": [
        "nltk.download(\"stopwords\")"
      ]
    },
    {
      "attachments": {},
      "cell_type": "markdown",
      "metadata": {},
      "source": [
        "Stopwords removal"
      ]
    },
    {
      "cell_type": "code",
      "execution_count": 40,
      "metadata": {
        "id": "bJfPmI9FctEE"
      },
      "outputs": [],
      "source": [
        "\n",
        "def remove_stopwords(x):\n",
        "    cap = x.split()\n",
        "    cap = [w.lower() for w in cap]\n",
        "    cap = [w for w in cap if w not in stopwords.words('english')]\n",
        "    cap = [w for w in cap if w not in string.punctuation]\n",
        "    return ' '.join(cap)\n",
        "\n",
        "\n",
        "X_train = X_train.apply(remove_stopwords)"
      ]
    },
    {
      "attachments": {},
      "cell_type": "markdown",
      "metadata": {},
      "source": [
        "Tokenisation"
      ]
    },
    {
      "cell_type": "code",
      "execution_count": 41,
      "metadata": {
        "id": "hTKf9pI2c1uE"
      },
      "outputs": [],
      "source": [
        "\n",
        "def reduce_count(st):\n",
        "    words = st.split()\n",
        "    chars = ['-','.','&','=']\n",
        "    for char in string.punctuation:\n",
        "        words = [w for w in words if char not in w]\n",
        "    words = [w for w in words if 5000 > tokenizer.word_counts[w] > 10]\n",
        "    words.insert(0,'startseq')\n",
        "    words.append('endseq')\n",
        "    words = ' '.join(words)\n",
        "    \n",
        "    return words\n",
        "\n",
        "for i in range(2):\n",
        "    tokenizer = Tokenizer(oov_token='OOV')\n",
        "    tokenizer.fit_on_texts(X_train)\n",
        "    X_train = X_train.apply(reduce_count)\n",
        "    tokenizer = Tokenizer(oov_token='OOV')\n",
        "    tokenizer.fit_on_texts(X_train)"
      ]
    },
    {
      "attachments": {},
      "cell_type": "markdown",
      "metadata": {},
      "source": [
        "Remove punctuation"
      ]
    },
    {
      "cell_type": "code",
      "execution_count": 42,
      "metadata": {
        "id": "bQhYH5-_c89a"
      },
      "outputs": [],
      "source": [
        "\n",
        "PUNCT_TO_REMOVE = string.punctuation\n",
        "def remove_punctuation(text):\n",
        "    return text.translate(str.maketrans('', '', PUNCT_TO_REMOVE))\n",
        "\n",
        "X_train = X_train.apply(lambda text: remove_punctuation(text))"
      ]
    },
    {
      "attachments": {},
      "cell_type": "markdown",
      "metadata": {},
      "source": [
        "Remove urls"
      ]
    },
    {
      "cell_type": "code",
      "execution_count": 43,
      "metadata": {
        "colab": {
          "base_uri": "https://localhost:8080/"
        },
        "id": "DNAr9bvndHET",
        "outputId": "64318936-d976-4e01-bc20-e6921049d0e9"
      },
      "outputs": [
        {
          "data": {
            "text/plain": [
              "0      startseq startseq collaboration gap focus towa...\n",
              "1      startseq startseq management collaborations in...\n",
              "2      startseq startseq observations research projec...\n",
              "3      startseq startseq critical view practice main ...\n",
              "4      startseq startseq critical success factors col...\n",
              "                             ...                        \n",
              "511    startseq startseq practical experiences design...\n",
              "512    startseq startseq structured approach academic...\n",
              "513    startseq startseq collaborative research proje...\n",
              "514    startseq startseq enablers collaborative resea...\n",
              "515    startseq startseq roles universities technolog...\n",
              "Name: Merged, Length: 516, dtype: object"
            ]
          },
          "execution_count": 43,
          "metadata": {},
          "output_type": "execute_result"
        }
      ],
      "source": [
        "\n",
        "import re\n",
        "def removeurls(text):\n",
        "    url_pattern = re.compile(r'https?://\\S+|www\\.\\S+')\n",
        "    return url_pattern.sub(r'', text)\n",
        "\n",
        "X_train = X_train.apply(lambda text: removeurls(text))\n",
        "\n",
        "X_train"
      ]
    },
    {
      "attachments": {},
      "cell_type": "markdown",
      "metadata": {},
      "source": [
        "Lemmatisation"
      ]
    },
    {
      "cell_type": "code",
      "execution_count": 44,
      "metadata": {
        "colab": {
          "base_uri": "https://localhost:8080/"
        },
        "id": "oDRpbeJAdVdq",
        "outputId": "eab41985-78cd-435c-b589-5419549ef613"
      },
      "outputs": [
        {
          "data": {
            "text/plain": [
              "0      startseq startseq collaboration gap focus towa...\n",
              "1      startseq startseq management collaboration inv...\n",
              "2      startseq startseq observation research project...\n",
              "3      startseq startseq critical view practice main ...\n",
              "4      startseq startseq critical success factor coll...\n",
              "                             ...                        \n",
              "511    startseq startseq practical experience design ...\n",
              "512    startseq startseq structure approach academic ...\n",
              "513    startseq startseq collaborative research proje...\n",
              "514    startseq startseq enabler collaborative resear...\n",
              "515    startseq startseq role university technology t...\n",
              "Name: Merged, Length: 516, dtype: object"
            ]
          },
          "execution_count": 44,
          "metadata": {},
          "output_type": "execute_result"
        }
      ],
      "source": [
        "nlp = spacy.load('en_core_web_sm')\n",
        "nlp.disable_pipes('ner', 'parser')\n",
        "\n",
        "def space(review):\n",
        "    doc = nlp(review)\n",
        "    return \" \".join([token.lemma_ for token in doc])\n",
        "\n",
        "X_train = X_train.apply(space)\n",
        "X_train"
      ]
    },
    {
      "attachments": {},
      "cell_type": "markdown",
      "metadata": {
        "id": "zT_tFLLPd9iy"
      },
      "source": [
        "Vectorizer (n-gram)"
      ]
    },
    {
      "cell_type": "code",
      "execution_count": 45,
      "metadata": {
        "colab": {
          "base_uri": "https://localhost:8080/"
        },
        "id": "DsPiv5QVduMy",
        "outputId": "731fe916-e3c1-4fd9-f71b-e6bcdfb5614f"
      },
      "outputs": [
        {
          "name": "stderr",
          "output_type": "stream",
          "text": [
            "/usr/local/lib/python3.8/dist-packages/sklearn/feature_extraction/text.py:516: UserWarning: The parameter 'token_pattern' will not be used since 'tokenizer' is not None'\n",
            "  warnings.warn(\n"
          ]
        },
        {
          "data": {
            "text/plain": [
              "CountVectorizer(stop_words='english',\n",
              "                tokenizer=<bound method RegexpTokenizer.tokenize of RegexpTokenizer(pattern='[a-zA-Z0-9]+', gaps=False, discard_empty=True, flags=re.UNICODE|re.MULTILINE|re.DOTALL)>)"
            ]
          },
          "execution_count": 45,
          "metadata": {},
          "output_type": "execute_result"
        }
      ],
      "source": [
        "#Vectorisation and Tokenisation\n",
        "from sklearn.feature_extraction.text import CountVectorizer\n",
        "from nltk.tokenize import RegexpTokenizer\n",
        "token = RegexpTokenizer(r'[a-zA-Z0-9]+')\n",
        "cv = CountVectorizer(stop_words='english',ngram_range = (1,1),tokenizer = token.tokenize)\n",
        "cv.fit(X_train)"
      ]
    },
    {
      "cell_type": "code",
      "execution_count": 46,
      "metadata": {
        "id": "z-cHAb9XMtoJ"
      },
      "outputs": [],
      "source": [
        "text_counts = cv.transform(X_train)"
      ]
    },
    {
      "cell_type": "markdown",
      "metadata": {
        "id": "eKQmyo9PJZTy"
      },
      "source": [
        "Repeat above processing on Test set\n"
      ]
    },
    {
      "cell_type": "code",
      "execution_count": 47,
      "metadata": {
        "id": "tE5ZSTKAJYq1"
      },
      "outputs": [],
      "source": [
        "X_test = X_test.apply(remove_stopwords)\n",
        "\n",
        "for i in range(2):\n",
        "    tokenizer = Tokenizer(oov_token='OOV')\n",
        "    tokenizer.fit_on_texts(X_test)\n",
        "    X_test = X_test.apply(reduce_count)\n",
        "    tokenizer = Tokenizer(oov_token='OOV')\n",
        "    tokenizer.fit_on_texts(X_test)\n",
        "\n",
        "X_test = X_test.apply(lambda text: remove_punctuation(text))\n",
        "\n",
        "X_test = X_test.apply(lambda text: removeurls(text))\n",
        "\n",
        "X_test = X_test.apply(space)\n"
      ]
    },
    {
      "cell_type": "code",
      "execution_count": 48,
      "metadata": {
        "id": "dxGuEDARM1Tu"
      },
      "outputs": [],
      "source": [
        "test_text_counts = cv.transform(X_test)"
      ]
    },
    {
      "cell_type": "code",
      "execution_count": 49,
      "metadata": {
        "colab": {
          "base_uri": "https://localhost:8080/"
        },
        "id": "i8Gp5mFtKqXD",
        "outputId": "e0133f47-4f6c-479e-eb09-83372b6d2e0a"
      },
      "outputs": [
        {
          "data": {
            "text/plain": [
              "0       startseq startseq use government action growth...\n",
              "1       startseq startseq academic industrial software...\n",
              "2       startseq startseq intervention improve softwar...\n",
              "3       startseq startseq intervention software create...\n",
              "4       startseq startseq improve agile process softwa...\n",
              "                              ...                        \n",
              "1007    startseq startseq international scientific col...\n",
              "1008    startseq startseq apply action design research...\n",
              "1009    startseq startseq use bibliographic network pr...\n",
              "1010    startseq startseq make design research relevan...\n",
              "1011    startseq startseq theory implement service val...\n",
              "Name: Merged, Length: 1012, dtype: object"
            ]
          },
          "execution_count": 49,
          "metadata": {},
          "output_type": "execute_result"
        }
      ],
      "source": [
        "X_test"
      ]
    },
    {
      "attachments": {},
      "cell_type": "markdown",
      "metadata": {
        "id": "nq8XSPZxM9pT"
      },
      "source": [
        "### XGBoost "
      ]
    },
    {
      "attachments": {},
      "cell_type": "markdown",
      "metadata": {},
      "source": [
        "Model Training"
      ]
    },
    {
      "cell_type": "code",
      "execution_count": 479,
      "metadata": {
        "colab": {
          "base_uri": "https://localhost:8080/"
        },
        "id": "VP2IHjC3NSb0",
        "outputId": "40f73335-9182-4860-9153-1fd8c7b8a907"
      },
      "outputs": [
        {
          "data": {
            "text/plain": [
              "XGBClassifier(gamma=20, scale_pos_weight=27.914285714285715, subsample=0.2)"
            ]
          },
          "execution_count": 479,
          "metadata": {},
          "output_type": "execute_result"
        }
      ],
      "source": [
        "import xgboost as xgb\n",
        "xgb = xgb.XGBClassifier(subsample=0.2,gamma =20,scale_pos_weight=977/35)\n",
        "xgb.fit(text_counts, y_train)"
      ]
    },
    {
      "attachments": {},
      "cell_type": "markdown",
      "metadata": {},
      "source": [
        "Training accuracy"
      ]
    },
    {
      "cell_type": "code",
      "execution_count": 480,
      "metadata": {
        "colab": {
          "base_uri": "https://localhost:8080/"
        },
        "id": "5kdmDt8WNSb1",
        "outputId": "4aacd3bd-80dd-45fc-c0cc-383039418f7b"
      },
      "outputs": [
        {
          "data": {
            "text/plain": [
              "0.8817829457364341"
            ]
          },
          "execution_count": 480,
          "metadata": {},
          "output_type": "execute_result"
        }
      ],
      "source": [
        "xgb.score(text_counts, y_train)"
      ]
    },
    {
      "cell_type": "code",
      "execution_count": 481,
      "metadata": {
        "colab": {
          "base_uri": "https://localhost:8080/"
        },
        "id": "WfhS5siRNSb2",
        "outputId": "ca5a319c-728f-4b08-fc30-bbaeabc98ecd"
      },
      "outputs": [
        {
          "name": "stdout",
          "output_type": "stream",
          "text": [
            "              precision    recall  f1-score   support\n",
            "\n",
            "           0       0.87      1.00      0.93       410\n",
            "           1       1.00      0.42      0.60       106\n",
            "\n",
            "    accuracy                           0.88       516\n",
            "   macro avg       0.94      0.71      0.76       516\n",
            "weighted avg       0.90      0.88      0.86       516\n",
            "\n"
          ]
        }
      ],
      "source": [
        "from sklearn import metrics\n",
        "print(metrics.classification_report(xgb.predict(text_counts), y_train))"
      ]
    },
    {
      "attachments": {},
      "cell_type": "markdown",
      "metadata": {},
      "source": [
        "Prediction on Test set"
      ]
    },
    {
      "cell_type": "code",
      "execution_count": 482,
      "metadata": {
        "colab": {
          "base_uri": "https://localhost:8080/"
        },
        "id": "-6wYqEGGNSb2",
        "outputId": "a4a239d5-df30-4967-92b1-840ad7b543fd"
      },
      "outputs": [
        {
          "data": {
            "text/plain": [
              "0.8280632411067194"
            ]
          },
          "execution_count": 482,
          "metadata": {},
          "output_type": "execute_result"
        }
      ],
      "source": [
        "predicted = xgb.predict(test_text_counts)\n",
        "accuracy_score = metrics.accuracy_score(predicted, y_test)\n",
        "accuracy_score"
      ]
    },
    {
      "cell_type": "code",
      "execution_count": 483,
      "metadata": {
        "colab": {
          "base_uri": "https://localhost:8080/"
        },
        "id": "HnVOAu19NSb2",
        "outputId": "c9659e54-62e8-4b25-d0b0-bbdd7663435f"
      },
      "outputs": [
        {
          "name": "stdout",
          "output_type": "stream",
          "text": [
            "              precision    recall  f1-score   support\n",
            "\n",
            "           0       0.84      0.98      0.90       831\n",
            "           1       0.60      0.12      0.19       181\n",
            "\n",
            "    accuracy                           0.83      1012\n",
            "   macro avg       0.72      0.55      0.55      1012\n",
            "weighted avg       0.79      0.83      0.78      1012\n",
            "\n"
          ]
        }
      ],
      "source": [
        "print(metrics.classification_report(predicted, y_test)) # the order of the input for results in the paper is (y_test, predicted)"
      ]
    },
    {
      "attachments": {},
      "cell_type": "markdown",
      "metadata": {},
      "source": [
        "Confusion matrix"
      ]
    },
    {
      "cell_type": "code",
      "execution_count": 484,
      "metadata": {
        "colab": {
          "base_uri": "https://localhost:8080/",
          "height": 282
        },
        "id": "fTIomec7NSb2",
        "outputId": "b799b1e9-3510-445c-d43a-d3920b28a1b9"
      },
      "outputs": [
        {
          "data": {
            "text/plain": [
              "<AxesSubplot:>"
            ]
          },
          "execution_count": 484,
          "metadata": {},
          "output_type": "execute_result"
        },
        {
          "data": {
            "image/png": "[encoded data removed]",
            "text/plain": [
              "<Figure size 432x288 with 2 Axes>"
            ]
          },
          "metadata": {
            "needs_background": "light"
          },
          "output_type": "display_data"
        }
      ],
      "source": [
        "import seaborn as sns\n",
        "from sklearn.metrics import confusion_matrix\n",
        "cf_matrix = confusion_matrix(y_test, predicted)\n",
        "sns.heatmap(cf_matrix,annot=True)"
      ]
    },
    {
      "attachments": {},
      "cell_type": "markdown",
      "metadata": {
        "id": "PZ0W81ANDQ-z"
      },
      "source": [
        "### SGD  "
      ]
    },
    {
      "attachments": {},
      "cell_type": "markdown",
      "metadata": {},
      "source": [
        "Model training"
      ]
    },
    {
      "cell_type": "code",
      "execution_count": 224,
      "metadata": {
        "colab": {
          "base_uri": "https://localhost:8080/"
        },
        "id": "J4Gu5b1KDThU",
        "outputId": "d9ebb265-df3b-4585-fdb9-145a4ad3fa00"
      },
      "outputs": [
        {
          "data": {
            "text/plain": [
              "SGDClassifier(alpha=2, class_weight='balanced')"
            ]
          },
          "execution_count": 224,
          "metadata": {},
          "output_type": "execute_result"
        }
      ],
      "source": [
        "from sklearn.linear_model import SGDClassifier\n",
        "sgd = SGDClassifier(alpha=2, class_weight='balanced')\n",
        "sgd.fit(text_counts, y_train)"
      ]
    },
    {
      "attachments": {},
      "cell_type": "markdown",
      "metadata": {},
      "source": [
        "Training accuracy"
      ]
    },
    {
      "cell_type": "code",
      "execution_count": 225,
      "metadata": {
        "colab": {
          "base_uri": "https://localhost:8080/"
        },
        "id": "iyf-Edu_DThV",
        "outputId": "fa86af80-c610-4bb5-d0ef-9b4be3c6e015"
      },
      "outputs": [
        {
          "data": {
            "text/plain": [
              "0.8468992248062015"
            ]
          },
          "execution_count": 225,
          "metadata": {},
          "output_type": "execute_result"
        }
      ],
      "source": [
        "sgd.score(text_counts, y_train)"
      ]
    },
    {
      "cell_type": "code",
      "execution_count": 226,
      "metadata": {
        "colab": {
          "base_uri": "https://localhost:8080/"
        },
        "id": "fcdQsmgZDThW",
        "outputId": "c2d8a69c-6e5b-402c-a16b-aa2381e33e85"
      },
      "outputs": [
        {
          "name": "stdout",
          "output_type": "stream",
          "text": [
            "              precision    recall  f1-score   support\n",
            "\n",
            "           0       0.83      1.00      0.91       394\n",
            "           1       0.98      0.36      0.53       122\n",
            "\n",
            "    accuracy                           0.85       516\n",
            "   macro avg       0.91      0.68      0.72       516\n",
            "weighted avg       0.87      0.85      0.82       516\n",
            "\n"
          ]
        }
      ],
      "source": [
        "from sklearn import metrics\n",
        "print(metrics.classification_report(sgd.predict(text_counts), y_train))"
      ]
    },
    {
      "attachments": {},
      "cell_type": "markdown",
      "metadata": {},
      "source": [
        "Prediction on the Test set"
      ]
    },
    {
      "cell_type": "code",
      "execution_count": 227,
      "metadata": {
        "colab": {
          "base_uri": "https://localhost:8080/"
        },
        "id": "jyWNwhFdDThW",
        "outputId": "a3d50f99-c16b-4dcf-e337-ec3ee690f450"
      },
      "outputs": [
        {
          "data": {
            "text/plain": [
              "0.8389328063241107"
            ]
          },
          "execution_count": 227,
          "metadata": {},
          "output_type": "execute_result"
        }
      ],
      "source": [
        "predicted = sgd.predict(test_text_counts)\n",
        "accuracy_score = metrics.accuracy_score(predicted, y_test)\n",
        "accuracy_score"
      ]
    },
    {
      "cell_type": "code",
      "execution_count": 228,
      "metadata": {
        "colab": {
          "base_uri": "https://localhost:8080/"
        },
        "id": "MHUYT3cHDThW",
        "outputId": "5f562644-770e-4f00-805f-f6a3e3b9be1f"
      },
      "outputs": [
        {
          "name": "stdout",
          "output_type": "stream",
          "text": [
            "              precision    recall  f1-score   support\n",
            "\n",
            "           0       0.84      0.99      0.91       832\n",
            "           1       0.74      0.14      0.24       180\n",
            "\n",
            "    accuracy                           0.84      1012\n",
            "   macro avg       0.79      0.57      0.58      1012\n",
            "weighted avg       0.82      0.84      0.79      1012\n",
            "\n"
          ]
        }
      ],
      "source": [
        "print(metrics.classification_report(predicted, y_test)) # the order of the input for results in the paper is (y_test, predicted)"
      ]
    },
    {
      "attachments": {},
      "cell_type": "markdown",
      "metadata": {},
      "source": [
        "Confusion matrix"
      ]
    },
    {
      "cell_type": "code",
      "execution_count": 229,
      "metadata": {
        "colab": {
          "base_uri": "https://localhost:8080/",
          "height": 282
        },
        "id": "bsBYRRaGDThW",
        "outputId": "707573fd-8d46-4f5f-ce64-daaef425ff0f"
      },
      "outputs": [
        {
          "data": {
            "text/plain": [
              "<AxesSubplot:>"
            ]
          },
          "execution_count": 229,
          "metadata": {},
          "output_type": "execute_result"
        },
        {
          "data": {
            "image/png": "[encoded data removed]",
            "text/plain": [
              "<Figure size 432x288 with 2 Axes>"
            ]
          },
          "metadata": {
            "needs_background": "light"
          },
          "output_type": "display_data"
        }
      ],
      "source": [
        "import seaborn as sns\n",
        "from sklearn.metrics import confusion_matrix\n",
        "cf_matrix = confusion_matrix(y_test, predicted)\n",
        "sns.heatmap(cf_matrix,annot=True)"
      ]
    },
    {
      "attachments": {},
      "cell_type": "markdown",
      "metadata": {
        "id": "0QrvD9BCA9bg"
      },
      "source": [
        "### Logistic Reg"
      ]
    },
    {
      "attachments": {},
      "cell_type": "markdown",
      "metadata": {},
      "source": [
        "Model training"
      ]
    },
    {
      "cell_type": "code",
      "execution_count": 126,
      "metadata": {
        "colab": {
          "base_uri": "https://localhost:8080/"
        },
        "id": "o7ryEi5XBDiB",
        "outputId": "f91d3a4b-7d09-4c5d-abbc-4684575c7fe6"
      },
      "outputs": [
        {
          "data": {
            "text/plain": [
              "LogisticRegression(C=0.01, class_weight='balanced')"
            ]
          },
          "execution_count": 126,
          "metadata": {},
          "output_type": "execute_result"
        }
      ],
      "source": [
        "from sklearn.linear_model import LogisticRegression\n",
        "lr = LogisticRegression(C=0.01, class_weight='balanced')\n",
        "lr.fit(text_counts, y_train)"
      ]
    },
    {
      "attachments": {},
      "cell_type": "markdown",
      "metadata": {},
      "source": [
        "Training Accuracy"
      ]
    },
    {
      "cell_type": "code",
      "execution_count": 127,
      "metadata": {
        "colab": {
          "base_uri": "https://localhost:8080/"
        },
        "id": "F2krogcKBDiC",
        "outputId": "1590762b-d18d-41fd-9e98-4993c31e0d74"
      },
      "outputs": [
        {
          "data": {
            "text/plain": [
              "0.9186046511627907"
            ]
          },
          "execution_count": 127,
          "metadata": {},
          "output_type": "execute_result"
        }
      ],
      "source": [
        "lr.score(text_counts, y_train)"
      ]
    },
    {
      "cell_type": "code",
      "execution_count": 128,
      "metadata": {
        "colab": {
          "base_uri": "https://localhost:8080/"
        },
        "id": "s4HNvnqnBDiC",
        "outputId": "52773dd9-9db3-48db-8e7d-751afe1375d9"
      },
      "outputs": [
        {
          "name": "stdout",
          "output_type": "stream",
          "text": [
            "              precision    recall  f1-score   support\n",
            "\n",
            "           0       0.91      1.00      0.95       429\n",
            "           1       1.00      0.52      0.68        87\n",
            "\n",
            "    accuracy                           0.92       516\n",
            "   macro avg       0.96      0.76      0.82       516\n",
            "weighted avg       0.93      0.92      0.91       516\n",
            "\n"
          ]
        }
      ],
      "source": [
        "from sklearn import metrics\n",
        "print(metrics.classification_report(lr.predict(text_counts), y_train))"
      ]
    },
    {
      "attachments": {},
      "cell_type": "markdown",
      "metadata": {},
      "source": [
        "Prediction on the test set"
      ]
    },
    {
      "cell_type": "code",
      "execution_count": 129,
      "metadata": {
        "colab": {
          "base_uri": "https://localhost:8080/"
        },
        "id": "fssx5pNGBDiC",
        "outputId": "c160f725-f00a-443c-d1bc-87d5cfa5506b"
      },
      "outputs": [
        {
          "data": {
            "text/plain": [
              "0.8903162055335968"
            ]
          },
          "execution_count": 129,
          "metadata": {},
          "output_type": "execute_result"
        }
      ],
      "source": [
        "predicted = lr.predict(test_text_counts)\n",
        "accuracy_score = metrics.accuracy_score(predicted, y_test) \n",
        "accuracy_score"
      ]
    },
    {
      "cell_type": "code",
      "execution_count": 130,
      "metadata": {
        "colab": {
          "base_uri": "https://localhost:8080/"
        },
        "id": "0UJFnxHcBDiD",
        "outputId": "2783c0c4-7088-412f-db3d-c5ce6e763fe1"
      },
      "outputs": [
        {
          "name": "stdout",
          "output_type": "stream",
          "text": [
            "              precision    recall  f1-score   support\n",
            "\n",
            "           0       0.91      0.98      0.94       906\n",
            "           1       0.43      0.14      0.21       106\n",
            "\n",
            "    accuracy                           0.89      1012\n",
            "   macro avg       0.67      0.56      0.58      1012\n",
            "weighted avg       0.86      0.89      0.86      1012\n",
            "\n"
          ]
        }
      ],
      "source": [
        "print(metrics.classification_report(predicted, y_test)) # the order of the input for results in the paper is (y_test, predicted)"
      ]
    },
    {
      "attachments": {},
      "cell_type": "markdown",
      "metadata": {},
      "source": [
        "Confusion matrix"
      ]
    },
    {
      "cell_type": "code",
      "execution_count": 131,
      "metadata": {
        "colab": {
          "base_uri": "https://localhost:8080/",
          "height": 282
        },
        "id": "uIHYiAgoBDiD",
        "outputId": "db071efa-ceab-4c90-e7f5-1c57fb1440e2"
      },
      "outputs": [
        {
          "data": {
            "text/plain": [
              "<AxesSubplot:>"
            ]
          },
          "execution_count": 131,
          "metadata": {},
          "output_type": "execute_result"
        },
        {
          "data": {
            "image/png": "[encoded data removed]",
            "text/plain": [
              "<Figure size 432x288 with 2 Axes>"
            ]
          },
          "metadata": {
            "needs_background": "light"
          },
          "output_type": "display_data"
        }
      ],
      "source": [
        "import seaborn as sns\n",
        "from sklearn.metrics import confusion_matrix\n",
        "cf_matrix = confusion_matrix(y_test, predicted)\n",
        "sns.heatmap(cf_matrix,annot=True)"
      ]
    },
    {
      "attachments": {},
      "cell_type": "markdown",
      "metadata": {
        "id": "WdQc7Y5aeF7C"
      },
      "source": [
        "### Multinomial NB"
      ]
    },
    {
      "cell_type": "code",
      "execution_count": null,
      "metadata": {
        "id": "eBa0UKr-NfVL"
      },
      "outputs": [],
      "source": [
        "from sklearn import metrics"
      ]
    },
    {
      "attachments": {},
      "cell_type": "markdown",
      "metadata": {},
      "source": [
        "Model training"
      ]
    },
    {
      "cell_type": "code",
      "execution_count": 62,
      "metadata": {
        "colab": {
          "base_uri": "https://localhost:8080/"
        },
        "id": "VvwFP2LDdzia",
        "outputId": "721da7dc-5947-4263-eab3-3cd82e0ba5ac"
      },
      "outputs": [
        {
          "data": {
            "text/plain": [
              "MultinomialNB()"
            ]
          },
          "execution_count": 62,
          "metadata": {},
          "output_type": "execute_result"
        }
      ],
      "source": [
        "from sklearn.naive_bayes import MultinomialNB\n",
        "#Multinomial Naive Bayes\n",
        "MNB = MultinomialNB()\n",
        "MNB.fit(text_counts, y_train)"
      ]
    },
    {
      "attachments": {},
      "cell_type": "markdown",
      "metadata": {},
      "source": [
        "Training accuracy"
      ]
    },
    {
      "cell_type": "code",
      "execution_count": 63,
      "metadata": {
        "colab": {
          "base_uri": "https://localhost:8080/"
        },
        "id": "deEIFsmJJROc",
        "outputId": "45498557-6263-46a3-d36f-6d00a1015ce2"
      },
      "outputs": [
        {
          "data": {
            "text/plain": [
              "0.9263565891472868"
            ]
          },
          "execution_count": 63,
          "metadata": {},
          "output_type": "execute_result"
        }
      ],
      "source": [
        "MNB.score(text_counts, y_train)"
      ]
    },
    {
      "cell_type": "code",
      "execution_count": 64,
      "metadata": {
        "colab": {
          "base_uri": "https://localhost:8080/"
        },
        "id": "ntK5JihGNp9q",
        "outputId": "96a8feac-e040-440c-8cd5-242618728e3c"
      },
      "outputs": [
        {
          "name": "stdout",
          "output_type": "stream",
          "text": [
            "              precision    recall  f1-score   support\n",
            "\n",
            "           0       0.92      1.00      0.96       437\n",
            "           1       0.96      0.54      0.69        79\n",
            "\n",
            "    accuracy                           0.93       516\n",
            "   macro avg       0.94      0.77      0.83       516\n",
            "weighted avg       0.93      0.93      0.92       516\n",
            "\n"
          ]
        }
      ],
      "source": [
        "print(metrics.classification_report(MNB.predict(text_counts), y_train))"
      ]
    },
    {
      "attachments": {},
      "cell_type": "markdown",
      "metadata": {},
      "source": [
        "Prediction on the Test set"
      ]
    },
    {
      "cell_type": "code",
      "execution_count": 65,
      "metadata": {
        "colab": {
          "base_uri": "https://localhost:8080/"
        },
        "id": "0ylgeJkqebWk",
        "outputId": "542295d6-8f48-4d1b-e802-5ca5781ab89a"
      },
      "outputs": [
        {
          "data": {
            "text/plain": [
              "0.9051383399209486"
            ]
          },
          "execution_count": 65,
          "metadata": {},
          "output_type": "execute_result"
        }
      ],
      "source": [
        "predicted = MNB.predict(test_text_counts)\n",
        "accuracy_score = metrics.accuracy_score(predicted, y_test)\n",
        "accuracy_score"
      ]
    },
    {
      "cell_type": "code",
      "execution_count": 68,
      "metadata": {
        "colab": {
          "base_uri": "https://localhost:8080/"
        },
        "id": "Pal4Ri_lNFxh",
        "outputId": "0dd94a5d-964b-46d3-a3ab-f5e413624aa7"
      },
      "outputs": [
        {
          "name": "stdout",
          "output_type": "stream",
          "text": [
            "              precision    recall  f1-score   support\n",
            "\n",
            "           0       0.92      0.98      0.95       923\n",
            "           1       0.40      0.16      0.23        89\n",
            "\n",
            "    accuracy                           0.91      1012\n",
            "   macro avg       0.66      0.57      0.59      1012\n",
            "weighted avg       0.88      0.91      0.89      1012\n",
            "\n"
          ]
        }
      ],
      "source": [
        "print(metrics.classification_report(predicted, y_test)) # the order of the input for results in the paper is (y_test, predicted)"
      ]
    },
    {
      "attachments": {},
      "cell_type": "markdown",
      "metadata": {},
      "source": [
        "Confusion matrix"
      ]
    },
    {
      "cell_type": "code",
      "execution_count": 69,
      "metadata": {
        "colab": {
          "base_uri": "https://localhost:8080/",
          "height": 286
        },
        "id": "GulBYZvsIld1",
        "outputId": "c79a0cd1-5817-4bd0-92f8-26347742eff2"
      },
      "outputs": [
        {
          "data": {
            "text/plain": [
              "<AxesSubplot:>"
            ]
          },
          "execution_count": 69,
          "metadata": {},
          "output_type": "execute_result"
        },
        {
          "data": {
            "image/png": "[encoded data removed]",
            "text/plain": [
              "<Figure size 432x288 with 2 Axes>"
            ]
          },
          "metadata": {
            "needs_background": "light"
          },
          "output_type": "display_data"
        }
      ],
      "source": [
        "import seaborn as sns\n",
        "from sklearn.metrics import confusion_matrix\n",
        "cf_matrix = confusion_matrix(y_test, predicted)\n",
        "sns.heatmap(cf_matrix,annot=True)"
      ]
    },
    {
      "attachments": {},
      "cell_type": "markdown",
      "metadata": {},
      "source": [
        "Best model (in the descending order of Recall score):\n",
        "1. SGD\n",
        "2. XGBoost\n",
        "3. Logistic Regression\n",
        "4. Multinomial Naive Bayes"
      ]
    },
    {
      "cell_type": "markdown",
      "metadata": {},
      "source": []
    }
  ],
  "metadata": {
    "colab": {
      "provenance": []
    },
    "kernelspec": {
      "display_name": "Python 3 (ipykernel)",
      "language": "python",
      "name": "python3"
    },
    "language_info": {
      "codemirror_mode": {
        "name": "ipython",
        "version": 3
      },
      "file_extension": ".py",
      "mimetype": "text/x-python",
      "name": "python",
      "nbconvert_exporter": "python",
      "pygments_lexer": "ipython3",
      "version": "3.8.10"
    }
  },
  "nbformat": 4,
  "nbformat_minor": 0
}
